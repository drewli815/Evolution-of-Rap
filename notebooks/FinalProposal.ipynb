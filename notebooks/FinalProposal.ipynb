{
 "cells": [
  {
   "cell_type": "markdown",
   "metadata": {},
   "source": [
    "# Overview\n",
    "\n",
    "In our project, we wanted to determine if rap music has changed over the last few decades. We've gathered data from Billboard's Hot Weekly charts containing 28000+ songs and trimmed it down to approximately 3800 rap songs. From this analysis, we found that the overarching themes of rap vary from decade to decade and that this may have to do with global events occurring at that time. The data suggests, however, that love was consistently talked about and that rap post-2000s deviated from social good to self-gratification."
   ]
  },
  {
   "cell_type": "markdown",
   "metadata": {},
   "source": [
    "# Permissions, Names/PIDs, and Githubs\n",
    "\n",
    "Permission Consensus: \n",
    "- [X] YES - make available\n",
    "- [] NO - keep private\n",
    "\n",
    "Names/PIDS - Githubs\n",
    "- Andrew Li/A15664397 - drewli815\n",
    "- Jialin Shan/A13826733 - j5shan\n",
    "- Sameer Ahmed/A16094697 - the3L3M3NT\n",
    "- Lacey Umamoto/A15726197 - lumamoto\n",
    "- Rickesh Khilnani/A15481687 - rick10101221"
   ]
  },
  {
   "cell_type": "markdown",
   "metadata": {},
   "source": [
    "# Research Question\n",
    "\n",
    "In the past 60 years, has rap become less lyric-centric and/or disconnected from societal issues as a result of consistently poor lyric choices? Can we form the conclusion that the main topics in rap _have_ changed after performing an analysis of the Billboard's number-one rap singles for each decade ranging from the 1960s to the 2010s?"
   ]
  },
  {
   "cell_type": "markdown",
   "metadata": {},
   "source": [
    "# Background Research\n",
    "\n",
    "- We realized that contemporary music is repetitive because a lot of songs have a repeating theme in the form of either lyrics or the type of beat. This is very evident in contemporary rap. A lot of rap songs cover the same topics: guns, liquor, drugs, money, sex, getting famous, being rich, etc. But one has to consider the type of beat that rap music uses. It's quite hard to tell the difference from one rap song to another if you were to just listen to the instrumental versions. The dull and repetitive nature of rap comes from exactly this.<br><br>\n",
    "\n",
    "- Therefore, in order to measure the monotony, we will be accumulating data from thousands of songs ranging from the 1960s - 2010s and performing an analysis on their overarching themes by using TF-IDF on the lyrics of all 3800 rap songs and looking at the differences in unique and common words. The American rap genre will be considered to have evolved from innovative to monotonous if rap music from the 1960s covers a range of topics other than the ones listed above as opposed to contemporary rap. In the 20th century, rap music was much more impactful and many pieces pushed to make public change. Nowadays, that isn't always the case. At least, not as often.<br><br>\n",
    "\n",
    "- The overarching theme of each song will be the most repeated keyword (after removing common english words), word counts will be some sort of map or Counter that associates frequencies with words. We will primarily be using Genius' API to gather lyrics.<br><br>\n",
    "\n",
    "- We believe a change in the music industry is needed. Today's music industry makes music that is solely for 'instant gratification' and is utterly shallow. (Refer to the second resource in the *Past Studies* section below). <br><br>\n",
    "\n",
    "- We all listen to and enjoy music.<br><br>\n",
    "\n",
    "- Past Studies\n",
    "    - This [article](https://www.rapanalysis.com/2015/08/the-23-most-repetitive-rappers/) that has illustrated the 23 most repetitive rappers, the highest being Will.I.Am and Kid Cudi. The analysis looked at how often certain keywords were said, but only compared it from artist to artist.\n",
    "    - In this [tiny piece](https://roundup.brophyprep.org/index.php/2012/03/popular-hip-hop-music-praises-shallow-superficial-decadence/) (written 9 years ago), talks about how music used to promote good values, but in the 21st century, it has completely shifted to a shallow and superficial genre. He adds a quote from one of Drake's songs that only focuses on the aspects of life that are instantly gratifying: getting money, drinking, and smoking, namely.<br><br>\n",
    "\n",
    "- References (include links):\n",
    "    - [Billboard's Hot Weekly Charts](https://data.world/kcmillersean/billboard-hot-100-1958-2017) \n",
    "    - [Genius API](https://docs.genius.com/)\n",
    "    - [Lyrics-Extractor Package for Python](https://pypi.org/project/lyrics-extractor/) (canceled)\n",
    "        - This can be used for retrieving and cross-referencing lyrics for data validity. Uses Genius' API\n",
    "    - [Language Detector](https://pypi.org/project/langdetect/) \n",
    "    - [Spotify's Web API](https://spotipy.readthedocs.io/en/2.16.0/) (canceled)\n",
    "    - [Spotify](https://www.spotify.com/us/) (canceled)\n",
    "    - [MusixMatch API for lyrics](https://developer.musixmatch.com/) (canceled)  \n",
    "    - Google Sheets to store accumulated data for each decade (at the end of project for reference)\n"
   ]
  },
  {
   "cell_type": "markdown",
   "metadata": {},
   "source": [
    "# Hypothesis\n",
    "\n",
    "After conducting a thorough analysis of our rap dataset, we believe that we will find a contemporary rap lyrics lacks the social agendas that older rap music had. This trend will be evident after we compare the overarching themes of rap music for each decade. We expect that, through these observations, we will see that rap  will not only shift in topics, but also fail to motivate society in a positive way (e.g. for social reform) due to poor lyrical choices."
   ]
  },
  {
   "cell_type": "markdown",
   "metadata": {},
   "source": [
    "# Data\n",
    "\n",
    "- What variables: song name, song title, song year, lyrics for song, cleaned lyrics (after removing stop words, tokenizing, etc.), words adjusted after TF-IDF, and keywords with their respective counts. We do not have a fixed numerical value for the number of dataframes that were used in our analysis, but everything stems from one `df_final`<br><br>\n",
    "\n",
    "- How many observations: Varies depending on how many songs are on each Billboard for each decade. We will have to find a way to normalize our data so that the number of songs for each decade are the same. In total, however, we will trim a dataset of 28000 songs down to 3800 which are specifically rap songs. <br><br>\n",
    "\n",
    "- Who/what/how would these data be collected: \n",
    "    - Who\n",
    "        - Each week, teams will be formed and tasks will be assigned to each subteam so that we can achieve maximum efficiency in data collection and analysis. Everyone's time would not be spent completing the same task and we will finish the project quicker. For example, team A may be tasked with data collection while team B will be in charge of parsing through it for cleaning (removing stop words, stemming, etc.)\n",
    "    - What\n",
    "        - At first, we will be collecting song names, artists, and the date at which each song reached number one. Then, after building an algorithm for scraping lyrics from Genius, we will find the lyrics for each song. At this point, this is all the data collection we need. Additional steps include parsing through the data with TF-IDF, removing common English words, and developing an extra dataframe for holding word counts for each decade..\n",
    "    - How\n",
    "        - First using Billboard's number-one songs and importing the csv in as a dataframe so that we can then iterate through each song title and run the `get_lyrics()` algorithm on it. Then we will simply store each lyric body in the dataframe, remove any common English words from each lyric body, and iterate through all of the lyrics and associate counts with each word.<br><br>\n",
    "\n",
    "- How would these data be stored/organized: Pandas dataframe which will be used for building visualizations. Again, the number of dataframes we will be using is not fixed<br><br>\n",
    "\n",
    "- What kind of songs are you collecting: We will be collecting Billboard's number-one __rap__ songs for each decade from the 1960s to the 2010s. The number of songs for each decade varies, so we will have to establish a numerical bottleneck and/or normalize the data with log graphing.<br><br>\n",
    "\n",
    "- Dataset 1:\n",
    "    - Dataset Name: Billboard Hot Weekly Charts\n",
    "    - [Link to the dataset](https://data.world/kcmillersean/billboard-hot-100-1958-2017)\n",
    "    - Number of total observations: 28500\n",
    "    - Truncated observation count for specifically 'rap': 3850<br><br>\n",
    "\n",
    "- Notes\n",
    "    - We will ONLY be looking at rap songs for this analysis. This is purely from Billboard's Hot Weekly charts so that we get a rough estimate of what the most popular songs are for each decade. Therefore, this may not capture ALL topics in rap over the last 6 decades.\n",
    "    - Because we have a method of retrieving all of the lyrics for each song in our data set, we know that we will have more than 25000+ words and 3800+ songs to parse through, which is more than enough to model the overarching themes for each decade for comparison with one another.\n"
   ]
  },
  {
   "cell_type": "markdown",
   "metadata": {},
   "source": [
    "# Setup"
   ]
  },
  {
   "cell_type": "code",
   "execution_count": 86,
   "metadata": {},
   "outputs": [],
   "source": [
    "import pandas as pd\n",
    "import nltk\n",
    "from nltk.corpus import stopwords\n",
    "from nltk.stem import WordNetLemmatizer\n",
    "from string import punctuation\n",
    "import re\n",
    "from nltk.stem import SnowballStemmer\n",
    "from autocorrect import Speller\n",
    "from collections import Counter \n",
    "import spacy\n",
    "from datetime import datetime\n",
    "import numpy as np\n",
    "from langdetect import detect\n",
    "from bs4 import BeautifulSoup\n",
    "import requests\n",
    "import unicodedata\n",
    "from collections import defaultdict\n",
    "import math\n",
    "import seaborn as sns\n",
    "import matplotlib.pyplot as plt\n",
    "pd.options.mode.chained_assignment = None\n",
    "import warnings\n",
    "warnings.filterwarnings(\"ignore\")"
   ]
  },
  {
   "cell_type": "markdown",
   "metadata": {},
   "source": [
    "# Data Cleaning\n",
    "\n",
    "Cut down 28000 observations to 3400 specifically pertaining to rap, merging columns to get a single ID, dropping identical songs, and creating a final dataframe to hold the lyrics of every song.\n",
    "\n",
    "Read in the Billboard's Hot weekly charts and their audio features retrieved from Spotify Web API (`df`), and when each correponding song has hit Billboard (`df_hotstuff`)."
   ]
  },
  {
   "cell_type": "code",
   "execution_count": 70,
   "metadata": {},
   "outputs": [],
   "source": [
    "df = pd.DataFrame(pd.read_excel(\"../data/Hot 100 Audio Features.xlsx\"))\n",
    "df_hotstuff = pd.DataFrame(pd.read_csv(\"../data/Hot Stuff.csv\"))"
   ]
  },
  {
   "cell_type": "markdown",
   "metadata": {},
   "source": [
    "### Cutting Down Data\n",
    "\n",
    "Here, we are dropping any obserations without any genre specified, assuming that they were not considered rap songs because they weren't explicitly tagged with it. This **ALSO** excludes songs without a rap tag entirely, including 'Hip Hop' songs (hip hop songs have an explcit 'hip hop' tag). Therefore, we are solely focusing on rap music in the entire data set. \n",
    "\n",
    "`df_rap` will contain observations that have the 'rap' genre in their spotify_genre's list. Lastly, we drop duplicates that may have emerged through the data collection process."
   ]
  },
  {
   "cell_type": "code",
   "execution_count": 71,
   "metadata": {},
   "outputs": [],
   "source": [
    "# drop songs without genres\n",
    "df.dropna(subset=['spotify_genre'], inplace=True)\n",
    "\n",
    "# get songs with rap genre\n",
    "df_rap = pd.DataFrame()\n",
    "for index, row in df.iterrows():\n",
    "    genres = df.spotify_genre.squeeze()[index]\n",
    "    if 'rap' in genres:\n",
    "        df_rap = df_rap.append(row)\n",
    "\n",
    "# drop duplicate songs (songs with same songID)\n",
    "df_rap = df_rap.drop_duplicates(subset=['SongID'], keep='first')"
   ]
  },
  {
   "cell_type": "markdown",
   "metadata": {},
   "source": [
    "### Merging Dataframes\n",
    "\n",
    "Merging both datasets so we can work with one dataframe. We also drop any duplicates as a result of the merge."
   ]
  },
  {
   "cell_type": "code",
   "execution_count": 72,
   "metadata": {},
   "outputs": [],
   "source": [
    "# merge df_rap and df_hotstuff to get weekID\n",
    "df_merge = pd.merge(df_rap, df_hotstuff, how='left')\n",
    "\n",
    "# drop songs with no weekID\n",
    "df_merge.dropna(subset=['WeekID'], inplace=True)\n",
    "\n",
    "# drop duplicate songs (songs with same songID)\n",
    "df_merge = df_merge.drop_duplicates(subset=['SongID'],keep='first')"
   ]
  },
  {
   "cell_type": "markdown",
   "metadata": {},
   "source": [
    "### Getting Years\n",
    "\n",
    "For our data analysis, we only need to keep the `Year`, `Performer` and `Song` title for each observation in order to retrieve the lyrics. Since we only considering data on a per decade basis, we can abstract away the precision given by months and days, leaving only years. We store this in `df_final`"
   ]
  },
  {
   "cell_type": "code",
   "execution_count": 73,
   "metadata": {},
   "outputs": [],
   "source": [
    "# get years\n",
    "years = []\n",
    "for index, row in df_merge.iterrows():\n",
    "    weekID = df_merge.WeekID[index]\n",
    "    year = datetime.strptime(weekID, \"%m/%d/%Y\").year\n",
    "    years.append(year)\n",
    "df_merge['Year'] = years\n",
    "\n",
    "# get final dataframe with year, performer, and song\n",
    "df_final = df_merge[['Year', 'Performer', 'Song']]\n",
    "df_final = df_final.reset_index(drop=True)"
   ]
  },
  {
   "cell_type": "markdown",
   "metadata": {},
   "source": [
    "### Getting Lyrics"
   ]
  },
  {
   "cell_type": "markdown",
   "metadata": {},
   "source": [
    "#### Helper Function\n",
    "\n",
    "Strips accents from text."
   ]
  },
  {
   "cell_type": "code",
   "execution_count": 74,
   "metadata": {},
   "outputs": [],
   "source": [
    "# strip accents from text\n",
    "# ex. beyoncé --> beyonce\n",
    "def strip_accents(text):\n",
    "    try:\n",
    "        text = unicode(text, 'utf-8')\n",
    "    except NameError:\n",
    "        pass\n",
    "    text = unicodedata.normalize('NFD', text)\\\n",
    "           .encode('ascii', 'ignore')\\\n",
    "           .decode(\"utf-8\")\n",
    "    return str(text)"
   ]
  },
  {
   "cell_type": "markdown",
   "metadata": {},
   "source": [
    "#### Make API call to get page to scrape from"
   ]
  },
  {
   "cell_type": "code",
   "execution_count": 75,
   "metadata": {},
   "outputs": [],
   "source": [
    "def get_url(song_title, artist_name):\n",
    "    # print(\"Searching for: \", song_title, \"-\", artist_name)\n",
    "    \n",
    "    # get song title and artist\n",
    "    # convert to lowercase, remove non-alphanumeric characters\n",
    "    \n",
    "    title = re.sub(r'[^a-zA-Z0-9-$() ]', '', song_title.lower())\n",
    "    #print(\"Title:\", title)\n",
    "    \n",
    "    title_simple = re.sub(r'[^a-zA-Z0-9- ]', '', title)\n",
    "    #print(title_simple)\n",
    "    \n",
    "    # title with no parentheses\n",
    "    title_noparen = re.sub(r'\\([^)]*\\)', '', title)\n",
    "    #print(\"Title no paren:\", title_noparen)\n",
    "    \n",
    "    # replace dollar signs with s's\n",
    "    title_nodollar = title.replace(\"$\", \"s\")\n",
    "    #print(title_nodollar)\n",
    "    \n",
    "    artist = re.sub(r'[^a-zA-Z0-9-$() ]', '', artist_name.lower())\n",
    "    #print(\"Artist:\", artist)\n",
    "    \n",
    "    artist_simple = re.sub(r'[^a-zA-Z0-9- ]', '', artist)\n",
    "    #print(artist_simple)\n",
    "    \n",
    "    artist_nodollar = artist.replace(\"$\", \"s\")\n",
    "    #print(artist_nodollar)\n",
    "    \n",
    "    artist_split = artist.split()\n",
    "    #print(\"Artist Split:\", artist_split)\n",
    "    \n",
    "    # main artist\n",
    "    if 'featuring' in artist:\n",
    "        artist_nofeat = artist.split('featuring')[0]\n",
    "    elif ',' in artist:\n",
    "        artist_nofeat = artist.split(',')[0]\n",
    "    else:\n",
    "        artist_nofeat = artist \n",
    "    #print(\"Artist No Feat:\", artist_nofeat)\n",
    "    \n",
    "    # set up request\n",
    "    headers = {'Authorization': 'Bearer ' + 'zZ6YtjOlYsm1o5Me_vIO6MczexIf6k5PGlgiMHi4aO6bnZmsyVdG7J7YQ0VXIOHE'}\n",
    "    data = {'q': title_noparen + ' ' + artist_nofeat}\n",
    "    base_url = 'https://api.genius.com'\n",
    "    search_url = base_url + '/search'\n",
    "    \n",
    "    current_page = 1 # page number of results\n",
    "    next_page = True\n",
    "    \n",
    "    while next_page:\n",
    "        params = {'page': current_page} # set page number\n",
    "        response = requests.get(search_url, data=data, headers=headers, params=params)\n",
    "        d = response.json()\n",
    "        page_hits = d['response']['hits']\n",
    "        \n",
    "        # if there are hits on the page\n",
    "        if page_hits:\n",
    "            # go through all hits\n",
    "            for hit in page_hits:\n",
    "                res = hit['result']\n",
    "                \n",
    "                # name of primary artist\n",
    "                name = res['primary_artist']['name']\n",
    "                name = strip_accents(name)\n",
    "                name = re.sub(r'[^a-zA-Z0-9- ]', '', name.lower())\n",
    "                #print(\"Name:\",name)\n",
    "                \n",
    "                full_title = res['full_title']\n",
    "                full_title = strip_accents(full_title)\n",
    "                # convert full_title to lowercase and remove non-alphanumeric characters\n",
    "                full_title = re.sub(r'[^a-zA-Z0-9- ]', '', full_title.lower())\n",
    "                #print(\"Full Title:\", full_title)\n",
    "                \n",
    "                if (\n",
    "                    # 'lyrics' substring is in url\n",
    "                    'lyrics' in res['url'] and\n",
    "                     # song title (w/ or w/o parentheses) is in full title\n",
    "                    (title in full_title or \n",
    "                     title_noparen in full_title or\n",
    "                     title_nodollar in full_title or\n",
    "                     title_simple in full_title\n",
    "                    ) and\n",
    "                    # 1st or 2nd word in artist is in full title or \n",
    "                    # main artist (no features) is in full title or name\n",
    "                    (artist_nofeat in full_title or \n",
    "                     artist_nofeat in name or\n",
    "                     artist_split[0] in full_title or\n",
    "                     (len(artist_split) > 1 and artist_split[1] in full_title) or\n",
    "                     artist_nodollar in full_title or\n",
    "                     artist_nodollar in name or\n",
    "                     artist_simple in full_title or\n",
    "                     artist_simple in name\n",
    "                    ) and\n",
    "                    # 1st or 2nd word in artist is in name from response\n",
    "                    (artist_split[0] in name or\n",
    "                     (len(artist_split) > 1 and artist_split[1] in name)\n",
    "                    ) and\n",
    "                    # song is not a translation\n",
    "                    'espanol' not in full_title and\n",
    "                    'nederlandse' not in full_title and\n",
    "                    'polskie' not in full_title and\n",
    "                    'portugues' not in full_title and\n",
    "                    'francaise' not in full_title and\n",
    "                    'deutsche' not in full_title and\n",
    "                    'oversttelse' not in full_title and\n",
    "                    'traduzione' not in full_title and\n",
    "                    'ceviri' not in full_title and\n",
    "                    'translation' not in full_title and\n",
    "                    # song is not a review by rap critic\n",
    "                    'rap critic' not in full_title and\n",
    "                    # song is not instrumental\n",
    "                    'instrumental' not in full_title and\n",
    "                    # song is not a parody\n",
    "                    'parody' not in full_title\n",
    "                ):\n",
    "                    url = res['url']\n",
    "                    # print(\"URL found: \", url)\n",
    "                    return url\n",
    "                    \n",
    "            # increment current_page value for next loop\n",
    "            current_page += 1\n",
    "            # print(\"Finished scraping page {}\".format(current_page))\n",
    "            \n",
    "            # if lyrics not on first 10 pages, stop\n",
    "            if (current_page == 10):\n",
    "                next_page = False\n",
    "        else:\n",
    "            # if page_hits is empty, stop\n",
    "            next_page = False\n",
    "        \n",
    "    return 0"
   ]
  },
  {
   "cell_type": "markdown",
   "metadata": {},
   "source": [
    "#### Scrape page for lyrics"
   ]
  },
  {
   "cell_type": "code",
   "execution_count": 76,
   "metadata": {},
   "outputs": [],
   "source": [
    "def get_lyrics(song_title, artist_name):\n",
    "    url = get_url(song_title, artist_name)\n",
    "    if url == 0:\n",
    "        print(\"Lyrics not found for\", song_title, \"-\", artist_name)\n",
    "        return np.NaN\n",
    "    else:\n",
    "        page = requests.get(url)\n",
    "        html = BeautifulSoup(page.text, 'html.parser')\n",
    "        lyrics = html.find('div', class_='lyrics').get_text()\n",
    "        return lyrics"
   ]
  },
  {
   "cell_type": "markdown",
   "metadata": {},
   "source": [
    "#### Get lyrics\n",
    "\n",
    "Uses all three helper functions defined above to retrieve the lyrics for all rap songs. For quick access (and to avoid having to rerun this cell at all), we store the final dataframe in `Hot100DataWithNanLyrics.csv`"
   ]
  },
  {
   "cell_type": "code",
   "execution_count": 9,
   "metadata": {
    "scrolled": true
   },
   "outputs": [
    {
     "name": "stdout",
     "output_type": "stream",
     "text": [
      "0.0% done\n",
      "0.28% done\n",
      "0.56% done\n",
      "0.83% done\n",
      "1.11% done\n",
      "1.39% done\n",
      "1.67% done\n",
      "1.95% done\n",
      "2.23% done\n",
      "2.5% done\n",
      "Lyrics not found for 223's - YNW Melly & 9lokknine\n",
      "2.78% done\n",
      "3.06% done\n",
      "3.34% done\n",
      "3.62% done\n",
      "3.9% done\n",
      "4.17% done\n",
      "4.45% done\n",
      "4.73% done\n",
      "5.01% done\n",
      "5.29% done\n",
      "Lyrics not found for How About Now - Drake\n",
      "5.56% done\n",
      "5.84% done\n",
      "6.12% done\n",
      "6.4% done\n",
      "Lyrics not found for Apes**t - The Carters\n",
      "6.68% done\n",
      "6.96% done\n",
      "Lyrics not found for Dear Mama/Old School - 2Pac\n",
      "7.23% done\n",
      "7.51% done\n",
      "Lyrics not found for Move B***h - Ludacris Featuring Mystikal & Infamous 2.0\n",
      "7.79% done\n",
      "Lyrics not found for From Her Mama (Mama Got A**) - Juvenile\n",
      "Lyrics not found for Envy/Firewater - Fat Joe\n",
      "8.07% done\n",
      "8.35% done\n",
      "8.63% done\n",
      "8.9% done\n",
      "9.18% done\n",
      "9.46% done\n",
      "Lyrics not found for Sexy Lady - Yung Berg Featuring Junior\n",
      "9.74% done\n",
      "10.02% done\n",
      "10.29% done\n",
      "Lyrics not found for She's Mine Pt.1 - J. Cole\n",
      "10.57% done\n",
      "10.85% done\n",
      "11.13% done\n",
      "11.41% done\n",
      "Lyrics not found for 3am - Eminem\n",
      "11.69% done\n",
      "11.96% done\n",
      "12.24% done\n",
      "12.52% done\n",
      "12.8% done\n",
      "13.08% done\n",
      "Lyrics not found for All The Things (Your Man Won't Do) (From \"Don't Be A Menace...\") - Joe\n",
      "13.36% done\n",
      "Lyrics not found for Big Poppa/Warning - The Notorious B.I.G.\n",
      "13.63% done\n",
      "13.91% done\n",
      "Lyrics not found for Friends/Five Minutes Of Funk - Whodini\n",
      "14.19% done\n",
      "14.47% done\n",
      "14.75% done\n",
      "Lyrics not found for Dr. Jon (The Medicine Man) - Jon & Robin And The In Crowd\n",
      "15.03% done\n",
      "Lyrics not found for Oh No - Mos Def & Pharoahe Monch Featuring Nate Dogg\n",
      "15.3% done\n",
      "Lyrics not found for More Bounce To The Ounce Part I - Zapp\n",
      "15.58% done\n",
      "Lyrics not found for Juicy/Unbelievable - The Notorious B.I.G.\n",
      "15.86% done\n",
      "16.14% done\n",
      "Lyrics not found for It's All The Way Live (Now) (From \"Eddie\") - Coolio\n",
      "16.42% done\n",
      "Lyrics not found for (Hot S**t) Country Grammar - Nelly\n",
      "16.69% done\n",
      "16.97% done\n",
      "Lyrics not found for Do That... - Baby Featuring P. Diddy\n",
      "17.25% done\n",
      "Lyrics not found for Breathe, Stretch, Shake - Mase Featuring P. Diddy\n",
      "Lyrics not found for Rich As F**k - Lil Wayne Featuring 2 Chainz\n",
      "Lyrics not found for SuperThug (What What) - Noreaga\n",
      "17.53% done\n",
      "17.81% done\n",
      "18.09% done\n",
      "18.36% done\n",
      "Lyrics not found for Dope N****z - Lil Wayne Featuring Snoop Dogg\n",
      "18.64% done\n",
      "18.92% done\n",
      "Lyrics not found for One More Chance/Stay With Me - The Notorious B.I.G.\n",
      "19.2% done\n",
      "19.48% done\n",
      "19.76% done\n",
      "20.03% done\n",
      "Lyrics not found for Louie, Louie - Fat Boys\n",
      "Lyrics not found for Here's A Heart - The Diplomats\n",
      "20.31% done\n",
      "20.59% done\n",
      "20.87% done\n",
      "Lyrics not found for Magic Wand - Don & Juan\n",
      "21.15% done\n",
      "21.42% done\n",
      "21.7% done\n",
      "21.98% done\n",
      "Lyrics not found for Armed And Dangerous - Juice WRLD\n",
      "22.26% done\n",
      "22.54% done\n",
      "22.82% done\n",
      "23.09% done\n",
      "Lyrics not found for Before You Walk Out Of My Life/Like This And Like That - Monica\n",
      "23.37% done\n",
      "Lyrics not found for Bigger > You - 2 Chainz, Drake & Quavo\n",
      "23.65% done\n",
      "23.93% done\n",
      "24.21% done\n",
      "24.49% done\n",
      "Lyrics not found for 9 AM In Dallas - Drake\n",
      "24.76% done\n",
      "25.04% done\n",
      "25.32% done\n",
      "25.6% done\n",
      "25.88% done\n",
      "Lyrics not found for Do It Again A Little Bit Slower - Jon & Robin And The In Crowd\n",
      "26.15% done\n",
      "26.43% done\n",
      "Lyrics not found for My Sh*t - A Boogie Wit da Hoodie\n",
      "Lyrics not found for F*ckwithmeyouknowigotit - Jay Z Featuring Rick Ross\n",
      "26.71% done\n",
      "Lyrics not found for No BS - Chris Brown\n",
      "26.99% done\n",
      "27.27% done\n",
      "Lyrics not found for Love's Made A Fool Of You - Cochise\n",
      "27.55% done\n",
      "27.82% done\n",
      "28.1% done\n",
      "28.38% done\n",
      "28.66% done\n",
      "Lyrics not found for Pills And Automobiles - Chris Brown Featuring Yo Gotti, A Boogie Wit da Hoodie & Kodak Black\n",
      "28.94% done\n",
      "29.22% done\n",
      "Lyrics not found for The Business - Yung Berg Featuring Casha\n",
      "Lyrics not found for Ain't No Nigga/Dead Presidents - Jay-Z Featuring Foxxy Brown\n",
      "29.49% done\n",
      "29.77% done\n",
      "30.05% done\n",
      "30.33% done\n",
      "30.61% done\n",
      "30.88% done\n",
      "31.16% done\n",
      "31.44% done\n",
      "Lyrics not found for It Ain't My Fault 1 & 2 - Silkk The Shocker Featuring Mystikal\n",
      "31.72% done\n",
      "32.0% done\n",
      "32.28% done\n",
      "32.55% done\n",
      "Lyrics not found for Old Fashioned Boy (You're The One) - Stallion\n",
      "Lyrics not found for I Never Seen A Man Cry (aka I Seen A Man Die) - Scarface\n",
      "32.83% done\n",
      "33.11% done\n",
      "33.39% done\n",
      "33.67% done\n",
      "33.95% done\n",
      "34.22% done\n",
      "34.5% done\n",
      "34.78% done\n",
      "35.06% done\n",
      "Lyrics not found for Lovers And Friends - Lil Jon & The East Side Boyz Featuring Usher & Ludacris\n",
      "35.34% done\n",
      "Lyrics not found for Lookin' At Me - Mase Featuring Puff Daddy\n",
      "35.61% done\n",
      "Lyrics not found for I'm Going In - Drake Featuring Lil Wayne & Young Jeezy\n",
      "35.89% done\n",
      "Lyrics not found for F**k Love - XXXTentacion Featuring Trippie Redd\n",
      "36.17% done\n",
      "36.45% done\n",
      "36.73% done\n",
      "37.01% done\n",
      "37.28% done\n",
      "37.56% done\n",
      "37.84% done\n",
      "38.12% done\n",
      "38.4% done\n",
      "38.68% done\n",
      "Lyrics not found for I Got The Hook Up! - Master P Featuring Sons Of Funk\n",
      "38.95% done\n",
      "39.23% done\n",
      "Lyrics not found for Funky Cold Medina - Tone-Loc\n",
      "39.51% done\n",
      "Lyrics not found for Ganja Burns - Nicki Minaj\n",
      "39.79% done\n",
      "40.07% done\n",
      "40.35% done\n",
      "40.62% done\n",
      "Lyrics not found for How I Could Just Kill A Man/The Phuncky Feel One - Cypress Hill\n",
      "40.9% done\n",
      "Lyrics not found for Move That Doh - Future Featuring Pharrell, Pusha T & Casino\n",
      "41.18% done\n",
      "Lyrics not found for I'm A King - P$C Featuring T.I. & Lil Scrappy\n",
      "Lyrics not found for Memories Back Then - Hustle Gang Featuring T.I., B.o.B, Kendrick Lamar & Kris Stephens\n",
      "41.46% done\n",
      "41.74% done\n",
      "42.01% done\n",
      "42.29% done\n",
      "42.57% done\n",
      "Lyrics not found for Jigga My N**** - JAY-Z\n",
      "42.85% done\n",
      "Lyrics not found for I Wanna Get With U - Guy\n",
      "43.13% done\n",
      "Lyrics not found for Incarcerated Scarfaces/Ice Cream - Raekwon\n",
      "43.41% done\n",
      "Lyrics not found for Invasion Of The Flat Booty B*****s - Too $hort\n",
      "43.68% done\n",
      "43.96% done\n",
      "44.24% done\n",
      "44.52% done\n",
      "44.8% done\n",
      "45.08% done\n",
      "45.35% done\n",
      "45.63% done\n",
      "45.91% done\n",
      "Lyrics not found for Come Close To Me - Common Featuring Mary J. Blige\n",
      "46.19% done\n",
      "46.47% done\n",
      "Lyrics not found for Bartender Song - Rehab\n",
      "46.74% done\n",
      "47.02% done\n",
      "Lyrics not found for Shake That Sh** - Shawnna Featuring Ludacris\n",
      "Lyrics not found for 24's - T.I.\n",
      "47.3% done\n",
      "47.58% done\n",
      "47.86% done\n",
      "Lyrics not found for The Best Man I Can Be - Ginuwine, R.L., Tyrese, Case\n",
      "48.14% done\n",
      "48.41% done\n",
      "48.69% done\n",
      "48.97% done\n",
      "Lyrics not found for Ain't No Playa - Rappin' 4-Tay\n",
      "49.25% done\n",
      "49.53% done\n",
      "49.81% done\n",
      "50.08% done\n",
      "50.36% done\n",
      "50.64% done\n",
      "50.92% done\n",
      "51.2% done\n",
      "Lyrics not found for A Broken Wing - Jordin Sparks\n",
      "51.47% done\n",
      "51.75% done\n",
      "52.03% done\n",
      "52.31% done\n",
      "52.59% done\n",
      "52.87% done\n",
      "53.14% done\n",
      "Lyrics not found for How Do U Want It/California Love - 2Pac Featuring K-Ci And JoJo\n",
      "53.42% done\n",
      "53.7% done\n",
      "53.98% done\n",
      "54.26% done\n",
      "54.54% done\n",
      "54.81% done\n",
      "55.09% done\n",
      "55.37% done\n",
      "55.65% done\n",
      "55.93% done\n",
      "56.2% done\n",
      "56.48% done\n",
      "56.76% done\n",
      "57.04% done\n",
      "57.32% done\n",
      "57.6% done\n",
      "57.87% done\n",
      "58.15% done\n",
      "58.43% done\n",
      "Lyrics not found for Fly S**t Only - Future\n",
      "58.71% done\n",
      "Lyrics not found for Light Your A** On Fire - Busta Rhymes\n",
      "58.99% done\n",
      "Lyrics not found for I Don't F**k With You - Big Sean Featuring E-40\n",
      "59.27% done\n",
      "59.54% done\n",
      "59.82% done\n",
      "Lyrics not found for I'm In Miami Trick - LMFAO\n",
      "60.1% done\n",
      "60.38% done\n",
      "60.66% done\n",
      "Lyrics not found for F**k Today - Lil Wayne Featuring Gudda\n",
      "60.93% done\n",
      "61.21% done\n",
      "Lyrics not found for New Jack Hustler (Nino's Theme) (From \"New Jack City\") - Ice-T\n",
      "Lyrics not found for Jeeps, Lex Coups, Bimaz & Benz - Lost Boyz\n",
      "Lyrics not found for Independent Women Part I - Destiny's Child\n",
      "61.49% done\n",
      "61.77% done\n",
      "Lyrics not found for I Who Have Nothing - Jordin Sparks\n",
      "62.05% done\n",
      "62.33% done\n",
      "Lyrics not found for Knock-N-Boots - Wreckx-N-Effect\n",
      "62.6% done\n",
      "62.88% done\n",
      "63.16% done\n",
      "Lyrics not found for Hot Boy - Bobby Shmurda\n",
      "63.44% done\n",
      "63.72% done\n",
      "Lyrics not found for Down A** Chick - Ja Rule Featuring Charli \"Chuck\" Baltimore\n",
      "64.0% done\n",
      "Lyrics not found for Feelin' Myself - will.i.am Featuring Miley Cyrus, French Montana, Wiz Khalifa & DJ Mustard\n",
      "Lyrics not found for Holding My Heart - Bang\n",
      "64.27% done\n",
      "Lyrics not found for Drums - Jon & Robin\n",
      "64.55% done\n",
      "64.83% done\n",
      "Lyrics not found for Cupid's Chokehold/Breakfast In America - Gym Class Heroes Featuring Patrick Stump\n",
      "65.11% done\n",
      "65.39% done\n",
      "Lyrics not found for Roll Out (My Business) - Ludacris\n",
      "65.66% done\n",
      "Lyrics not found for Back That Thang Up - Juvenile Featuring Mannie Fresh & Lil' Wayne\n",
      "65.94% done\n",
      "66.22% done\n",
      "66.5% done\n"
     ]
    },
    {
     "name": "stdout",
     "output_type": "stream",
     "text": [
      "66.78% done\n",
      "67.06% done\n",
      "67.33% done\n",
      "Lyrics not found for I Am The Champion - B.o.B\n",
      "67.61% done\n",
      "67.89% done\n",
      "68.17% done\n",
      "68.45% done\n",
      "68.73% done\n",
      "69.0% done\n",
      "Lyrics not found for Now & Later - Sage The Gemini\n",
      "69.28% done\n",
      "Lyrics not found for My Choppa Hate N****s - 21 Savage & Metro Boomin\n",
      "69.56% done\n",
      "69.84% done\n",
      "Lyrics not found for Ice Tray - Quavo & Lil Yachty\n",
      "70.12% done\n",
      "70.4% done\n",
      "70.67% done\n",
      "70.95% done\n",
      "Lyrics not found for Start This S**t Off Right - Lil Wayne Featuring Ashanti & Mack Maine\n",
      "71.23% done\n",
      "Lyrics not found for Request Line - The Black Eyed Peas Featuring Macy Gray\n",
      "71.51% done\n",
      "71.79% done\n",
      "72.06% done\n",
      "Lyrics not found for B-Please - Snoop Dogg Featuring Xzibit & Nate Dogg\n",
      "72.34% done\n",
      "72.62% done\n",
      "Lyrics not found for All Through The Night - Tone-Loc\n",
      "72.9% done\n",
      "73.18% done\n",
      "73.46% done\n",
      "73.73% done\n",
      "Lyrics not found for Real Wild Child - Ivan\n",
      "Lyrics not found for The 81 - Candy & The Kisses\n",
      "74.01% done\n",
      "74.29% done\n",
      "Lyrics not found for Ryde Or Die, Chick - The Lox Featuring Timbaland And EVE\n",
      "74.57% done\n",
      "Lyrics not found for Bubble Gum Music - Rock & Roll Double Bubble\n",
      "74.85% done\n",
      "75.13% done\n",
      "Lyrics not found for #1 Dee Jay - Goody Goody\n",
      "Lyrics not found for 1 Night - Lil Yachty\n",
      "75.4% done\n",
      "75.68% done\n",
      "75.96% done\n",
      "Lyrics not found for P**** Print - Gucci Mane Featuring Kanye West\n",
      "Lyrics not found for Back Door Man - Derek\n",
      "Lyrics not found for Same Ol' Shit - MC Ren\n",
      "76.24% done\n",
      "76.52% done\n",
      "76.79% done\n",
      "77.07% done\n",
      "77.35% done\n",
      "77.63% done\n",
      "77.91% done\n",
      "Lyrics not found for Doin' The Continental Walk - Danny & The Juniors\n",
      "Lyrics not found for Runnin' - 2Pac, Notorious B.I.G., Radio, Dramacydal & Stretch\n",
      "78.19% done\n",
      "78.46% done\n",
      "Lyrics not found for Roberta - Bones\n",
      "78.74% done\n",
      "Lyrics not found for Definition - Mos Def & Kweli Are Black Star\n",
      "79.02% done\n",
      "79.3% done\n",
      "Lyrics not found for That's How It Is (It's Like That) - Redman Featuring K-Solo\n",
      "Lyrics not found for Cop That Sh#! - Timbaland & Magoo Featuring Missy Elliott\n",
      "79.58% done\n",
      "Lyrics not found for Still Will - 50 Cent Featuring Akon\n",
      "79.86% done\n",
      "80.13% done\n",
      "Lyrics not found for Cop Shot The Kid - Nas Featuring Kanye West\n",
      "80.41% done\n",
      "80.69% done\n",
      "Lyrics not found for Bottom Of The Bottle - Curren$Y Featuring August Alsina & Lil Wayne\n",
      "80.97% done\n",
      "Lyrics not found for Same Yung N***a - Gunna Featuring Playboi Carti\n",
      "Lyrics not found for Step To This - Master P Featuring D.I.G.\n",
      "81.25% done\n",
      "81.52% done\n",
      "Lyrics not found for How Can You Mistreat The One You Love - Jean & The Darlings\n",
      "81.8% done\n",
      "82.08% done\n",
      "Lyrics not found for F**k That Check Up - Meek Mill Featuring Lil Uzi Vert\n",
      "82.36% done\n",
      "Lyrics not found for Lean & Dabb - iLoveMemphis\n",
      "82.64% done\n",
      "82.92% done\n",
      "83.19% done\n",
      "83.47% done\n",
      "Lyrics not found for One - Usher & Michelle Chamuel\n",
      "83.75% done\n",
      "Lyrics not found for Stop Snitching - YG\n",
      "Lyrics not found for Oo-La-La-Limbo - Danny & The Juniors\n",
      "84.03% done\n",
      "84.31% done\n",
      "84.59% done\n",
      "Lyrics not found for Soul Sauce (Guacha Guaro) - Cal Tjader\n",
      "84.86% done\n",
      "85.14% done\n",
      "85.42% done\n",
      "Lyrics not found for Too Hotty - Quavo, Takeoff & Offset\n",
      "85.7% done\n",
      "Lyrics not found for Touch Me When We're Dancing - Bama\n",
      "85.98% done\n",
      "86.25% done\n",
      "Lyrics not found for Trophies - Young Money Featuring Drake\n",
      "86.53% done\n",
      "86.81% done\n",
      "87.09% done\n",
      "Lyrics not found for Twistin' All Night Long - Danny & The Juniors with Freddy Cannon\n",
      "87.37% done\n",
      "87.65% done\n",
      "87.92% done\n",
      "88.2% done\n",
      "Lyrics not found for Untitled 02 l 06.23.2014. - Kendrick Lamar\n",
      "Lyrics not found for Untitled 07 l Levitate - Kendrick Lamar\n",
      "88.48% done\n",
      "Lyrics not found for Use It Up And Wear It Out - Pat & Mick\n",
      "88.76% done\n",
      "Lyrics not found for Very Special - Big Daddy Kane Feat. Spinderella, L. Williams & K. Anderson\n",
      "89.04% done\n",
      "Lyrics not found for W O R K I N M E - Quavo\n",
      "89.32% done\n",
      "Lyrics not found for The Joint - EPMD\n",
      "89.59% done\n",
      "Lyrics not found for The Loop - Johnny Lytle\n",
      "89.87% done\n",
      "90.15% done\n",
      "Lyrics not found for When You're Mad - Ne-Yo\n",
      "90.43% done\n",
      "90.71% done\n",
      "Lyrics not found for Who Got The Props - Black Moon\n",
      "Lyrics not found for Who The F*** Is That? - Dolla Featuring T-Pain & Tay Dizm\n",
      "90.98% done\n",
      "Lyrics not found for Why I Love You So Much/Ain't Nobody - Monica\n",
      "91.26% done\n",
      "Lyrics not found for Wild Thing - Tone-Loc\n",
      "91.54% done\n",
      "91.82% done\n",
      "92.1% done\n",
      "Lyrics not found for Woo-Hah!! Got You All In Check/Everything Remains Raw - Busta Rhymes\n",
      "92.38% done\n",
      "92.65% done\n",
      "92.93% done\n",
      "93.21% done\n",
      "93.49% done\n",
      "93.77% done\n",
      "94.05% done\n",
      "Lyrics not found for Way Too Cold - Kanye West Featuring DJ Khaled\n",
      "Lyrics not found for We Ain't Goin' Out Like That - Cypress Hill\n",
      "Lyrics not found for We Are One (Ole Ola) [The 2014 FIFA World Cup Official Song] - Pitbull Featuring Jennifer Lopez & Claudia Leitte\n",
      "94.32% done\n",
      "94.6% done\n",
      "94.88% done\n",
      "Lyrics not found for Welcome Back - Mase\n",
      "95.16% done\n",
      "Lyrics not found for What Happened To That Boy - Baby Featuring Clipse\n",
      "95.44% done\n",
      "95.72% done\n",
      "Lyrics not found for What You Got - Duke & The Drivers\n",
      "Lyrics not found for What You Want - Mase Featuring Total\n",
      "95.99% done\n",
      "96.27% done\n",
      "96.55% done\n",
      "Lyrics not found for The Swalk - Notorious\n",
      "96.83% done\n",
      "97.11% done\n",
      "97.38% done\n",
      "Lyrics not found for Things'll Never Change/Rapper's Ball - E-40 Featuring Bo-Rock\n",
      "97.66% done\n",
      "97.94% done\n",
      "98.22% done\n",
      "98.5% done\n",
      "98.78% done\n",
      "Lyrics not found for Tonight Is The Night - Outasight\n",
      "99.05% done\n",
      "99.33% done\n",
      "99.61% done\n",
      "99.89% done\n"
     ]
    }
   ],
   "source": [
    "lyrics_list = []\n",
    "\n",
    "for i, row in df_final.iterrows():\n",
    "    if (i % 10 == 0): \n",
    "        print (str(round(i/len(df_final) * 100, 2)) + '% done')\n",
    "    artist = row['Performer']\n",
    "    song = row['Song']\n",
    "    lyrics = get_lyrics(song, artist)\n",
    "    # print(lyrics)\n",
    "    lyrics_list.append(lyrics)\n",
    "    \n",
    "df_final['Lyrics'] = lyrics_list\n",
    "df_final.to_csv(\"../data/Hot100DataWithNanLyrics.csv\")"
   ]
  },
  {
   "cell_type": "markdown",
   "metadata": {},
   "source": [
    "#### Drop rows with no lyrics"
   ]
  },
  {
   "cell_type": "code",
   "execution_count": 10,
   "metadata": {},
   "outputs": [],
   "source": [
    "# drop rows with no lyrics\n",
    "df_final.dropna(subset=['Lyrics'], inplace=True)\n",
    "\n",
    "# export to csv\n",
    "df_final.to_csv(\"../data/Hot100Data.csv\")"
   ]
  },
  {
   "cell_type": "markdown",
   "metadata": {},
   "source": [
    "We dropped 170 songs from our dataset because we were unable to find the lyrics for them using the Genius API. After dropping these songs, we now have a total of **3428 observations** in our dataset."
   ]
  },
  {
   "cell_type": "markdown",
   "metadata": {},
   "source": [
    "### Range of Years for Dataset\n",
    "\n",
    "Check to see if the minimum and maximum years are still 1958 - 2019"
   ]
  },
  {
   "cell_type": "code",
   "execution_count": 16,
   "metadata": {},
   "outputs": [
    {
     "name": "stdout",
     "output_type": "stream",
     "text": [
      "1959 2019\n",
      "1\n"
     ]
    }
   ],
   "source": [
    "print(min(df_final['Year']), max(df_final['Year']))\n",
    "\n",
    "# Find how many songs are in the earliest year\n",
    "print(len([df_final['Year'] == '1959']))"
   ]
  },
  {
   "cell_type": "markdown",
   "metadata": {},
   "source": [
    "Although our earliest year is 1959 and we only have one song from that year, we can still group it with the 1960s. We've decided to keep this rather than remove it just because our analysis still covers a span of approximately 60 years. "
   ]
  },
  {
   "cell_type": "markdown",
   "metadata": {},
   "source": [
    "Before we begin our analysis, we need to check if there are any unexpected results. \n",
    "\n",
    "NOTE: Later in the analysis, we remove any songs whose language is not english (since we are only constricting our analysis to the repetition of English words). Keep in mind that the removal of English words later in the process does not affect our analysis in any way (besides the runtime)."
   ]
  },
  {
   "cell_type": "code",
   "execution_count": 136,
   "metadata": {},
   "outputs": [],
   "source": [
    "# check to see if no songs were randomly lost\n",
    "# rap songs in our original data set\n",
    "og_rap_count = len([song for song in df_rap['spotify_genre'] if 'rap' in song])\n",
    "\n",
    "# check to see if each song name is unique and that we have a total of 3598 unique songs (before removal)\n",
    "unique_song_count = len(df_rap['SongID'].unique())\n",
    "\n",
    "# total rap songs after clean-up (must account for 170 songs manually removed because we were unable to find their lyrics)\n",
    "now_rap_count = df_final.shape[0]\n",
    "\n",
    "# assertion checks\n",
    "assert og_rap_count == unique_song_count == (now_rap_count + 170) # manually removed songs\n",
    "# print(unique_song_count, now_rap_count)"
   ]
  },
  {
   "cell_type": "markdown",
   "metadata": {},
   "source": [
    "# Data Analysis and Results\n",
    "\n",
    "### Notes\n",
    "For visualizations and discussion, we will refer to a total of 6 different bins: this includes songs from the 1960s (with one song from 1959), 1970s, 1980s, 1990s, 2000s, and 2010s.\n",
    "\n",
    "As stated above, we have taken out songs whose lyrics we could not find when scrapping through Genius. A few cells after this one, we also remove any songs that are not considered English (as determined by the [langdetect](https://pypi.org/project/langdetect/) library)\n",
    "\n",
    "Therefore, the exact data we will be looking at are English rap songs from the 1960s - 2010s, which was stated above, with one song from 1959. "
   ]
  },
  {
   "cell_type": "markdown",
   "metadata": {},
   "source": [
    "### Algorithms\n",
    "\n",
    "- SpaCy\n",
    "- TF-IDF\n",
    "\n",
    "We use SpaCy to perform initial text analysis, such as removing stop words, tokenization, and lemmatization, in order to get a finalized dataframe that will contain the most common words across decades. The aforementioned techniques are utilized because we want to be able to 1) convert contractions into regular words (such as slang) and 2) correct the spelling of words (because some words may be weirdly mispelled) so that the data can actually be used for analysis and data visualizations.\n",
    "\n",
    "We use TF-IDF on the original rap lyrics (`df_final`) so that each word can be considered _within its context_. We don't want to abstract each word from its surrounding and then calculate TF-IDF, because then we lose the exact number of songs in our collection of songs that contain each word, which is a vital part of the inverse document frequency."
   ]
  },
  {
   "cell_type": "markdown",
   "metadata": {},
   "source": [
    "### SpaCy"
   ]
  },
  {
   "cell_type": "markdown",
   "metadata": {},
   "source": [
    "#### Expanding Contractions"
   ]
  },
  {
   "cell_type": "markdown",
   "metadata": {},
   "source": [
    "Below is a dictionary for contractions in English retrived from the [web](https://gist.github.com/nealrs/96342d8231b75cf4bb82), which is based on the wikipedia page for contractions. This is not included in the language toolkit, thus it is manuallly added here. "
   ]
  },
  {
   "cell_type": "code",
   "execution_count": 87,
   "metadata": {},
   "outputs": [],
   "source": [
    "contractions_dict = {     \n",
    "\"ain't\": \"am not\",\n",
    "\"aren't\": \"are not\",\n",
    "\"can't\": \"cannot\",\n",
    "\"can't've\": \"cannot have\",\n",
    "\"'cause\": \"because\",\n",
    "\"could've\": \"could have\",\n",
    "\"couldn't\": \"could not\",\n",
    "\"couldn't've\": \"could not have\",\n",
    "\"didn't\": \"did not\",\n",
    "\"doesn't\": \"does not\",\n",
    "\"don't\": \"do not\",\n",
    "\"hadn't\": \"had not\",\n",
    "\"hadn't've\": \"had not have\",\n",
    "\"hasn't\": \"has not\",\n",
    "\"haven't\": \"have not\",\n",
    "\"he'd\": \"he had\",\n",
    "\"he'd've\": \"he would have\",\n",
    "\"he'll\": \"he will\",\n",
    "\"he'll've\": \"he will have\",\n",
    "\"he's\": \"he is\",\n",
    "\"how'd\": \"how did\",\n",
    "\"how'd'y\": \"how do you\",\n",
    "\"how'll\": \"how will\",\n",
    "\"how's\": \"how is\",\n",
    "\"I'd\": \"I had\",\n",
    "\"I'd've\": \"I would have\",\n",
    "\"I'll\": \"I will\",\n",
    "\"I'll've\": \"I will have\",\n",
    "\"I'm\": \"I am\",\n",
    "\"I've\": \"I have\",\n",
    "\"isn't\": \"is not\",\n",
    "\"it'd\": \"it had\",\n",
    "\"it'd've\": \"it would have\",\n",
    "\"it'll\": \"it will\",\n",
    "\"it'll've\": \"iit will have\",\n",
    "\"it's\": \"it is\",\n",
    "\"let's\": \"let us\",\n",
    "\"ma'am\": \"madam\",\n",
    "\"mayn't\": \"may not\",\n",
    "\"might've\": \"might have\",\n",
    "\"mightn't\": \"might not\",\n",
    "\"mightn't've\": \"might not have\",\n",
    "\"must've\": \"must have\",\n",
    "\"mustn't\": \"must not\",\n",
    "\"mustn't've\": \"must not have\",\n",
    "\"needn't\": \"need not\",\n",
    "\"needn't've\": \"need not have\",\n",
    "\"o'clock\": \"of the clock\",\n",
    "\"oughtn't\": \"ought not\",\n",
    "\"oughtn't've\": \"ought not have\",\n",
    "\"shan't\": \"shall not\",\n",
    "\"sha'n't\": \"shall not\",\n",
    "\"shan't've\": \"shall not have\",\n",
    "\"she'd\": \"she had\",\n",
    "\"she'd've\": \"she would have\",\n",
    "\"she'll\": \"she will\",\n",
    "\"she'll've\": \"she will have\",\n",
    "\"she's\": \"she is\",\n",
    "\"should've\": \"should have\",\n",
    "\"shouldn't\": \"should not\",\n",
    "\"shouldn't've\": \"should not have\",\n",
    "\"so've\": \"so have\",\n",
    "\"so's\": \"so is\",\n",
    "\"that'd\": \"that had\",\n",
    "\"that'd've\": \"that would have\",\n",
    "\"that's\": \"that is\",\n",
    "\"there'd\": \"there had\",\n",
    "\"there'd've\": \"there would have\",\n",
    "\"there's\": \"there is\",\n",
    "\"they'd\": \"they had\",\n",
    "\"they'd've\": \"they would have\",\n",
    "\"they'll\": \"they will\",\n",
    "\"they'll've\": \"they will have\",\n",
    "\"they're\": \"they are\",\n",
    "\"they've\": \"they have\",\n",
    "\"to've\": \"to have\",\n",
    "\"wasn't\": \"was not\",\n",
    "\"we'd\": \"we had\",\n",
    "\"we'd've\": \"we would have\",\n",
    "\"we'll\": \"we will\",\n",
    "\"we'll've\": \"we will have\",\n",
    "\"we're\": \"we are\",\n",
    "\"we've\": \"we have\",\n",
    "\"weren't\": \"were not\",\n",
    "\"what'll\": \"what will\",\n",
    "\"what'll've\": \"what will have\",\n",
    "\"what're\": \"what are\",\n",
    "\"what's\": \"what is\",\n",
    "\"what've\": \"what have\",\n",
    "\"when's\": \"when is\",\n",
    "\"when've\": \"when have\",\n",
    "\"where'd\": \"where did\",\n",
    "\"where's\": \"where is\",\n",
    "\"where've\": \"where have\",\n",
    "\"who'll\": \"who will\",\n",
    "\"who'll've\": \"who will have\",\n",
    "\"who's\": \"who is\",\n",
    "\"who've\": \"who have\",\n",
    "\"why's\": \"why is\",\n",
    "\"why've\": \"why have\",\n",
    "\"will've\": \"will have\",\n",
    "\"won't\": \"will not\",\n",
    "\"won't've\": \"will not have\",\n",
    "\"would've\": \"would have\",\n",
    "\"wouldn't\": \"would not\",\n",
    "\"wouldn't've\": \"would not have\",\n",
    "\"y'all\": \"you all\",\n",
    "\"y'all'd\": \"you all would\",\n",
    "\"y'all'd've\": \"you all would have\",\n",
    "\"y'all're\": \"you all are\",\n",
    "\"y'all've\": \"you all have\",\n",
    "\"you'd\": \"you had\",\n",
    "\"you'd've\": \"you would have\",\n",
    "\"you'll\": \"you will\",\n",
    "\"you'll've\": \"you will have\",\n",
    "\"you're\": \"you are\",\n",
    "\"you've\": \"you have\"\n",
    "}"
   ]
  },
  {
   "cell_type": "markdown",
   "metadata": {},
   "source": [
    "#### Text cleaning"
   ]
  },
  {
   "cell_type": "markdown",
   "metadata": {},
   "source": [
    "From here the pipeline of cleaning the data for text analysis is prepared, such as removing punctuation, stopwords, digits, correcting spelling, and everything would be put in lowercase. The contraction functions come from [here](https://gist.github.com/himlohiya/e2f3d4e25584e0c27f0d2132284d6218)."
   ]
  },
  {
   "cell_type": "code",
   "execution_count": 88,
   "metadata": {},
   "outputs": [],
   "source": [
    "wordnet_lemmatizer = WordNetLemmatizer()\n",
    "snowball_stemmer = SnowballStemmer('english')\n",
    "punct=punctuation+'’'+'“'+'”'+'–'\n",
    "\n",
    "def expand_contractions(text, contractions_dict):\n",
    "    \"\"\"\n",
    "    expand english contractions\n",
    "    \"\"\"\n",
    "    contractions_pattern = re.compile('({})'.format('|'.join(contractions_dict.keys())),\n",
    "                                      flags=re.IGNORECASE | re.DOTALL)\n",
    "\n",
    "    def expand_match(contraction):\n",
    "        match = contraction.group(0)\n",
    "        first_char = match[0]\n",
    "        expanded_contraction = contractions_dict.get(match) \\\n",
    "            if contractions_dict.get(match) \\\n",
    "            else contractions_dict.get(match.lower())\n",
    "        expanded_contraction = expanded_contraction\n",
    "        return expanded_contraction\n",
    "\n",
    "    expanded_text = contractions_pattern.sub(expand_match, text)\n",
    "    expanded_text = re.sub(\"'\", \"\", expanded_text)\n",
    "    return expanded_text\n",
    "\n",
    "def autospell(text):\n",
    "    \"\"\"\n",
    "    correct the spelling of the word.\n",
    "    \"\"\"\n",
    "    spell = Speller(lang='en',fast=True)\n",
    "    spells = [spell(w) for w in (nltk.word_tokenize(text))]\n",
    "    return \" \".join(spells)\n",
    "\n",
    "nlp = spacy.load('en_core_web_sm', disable=['parser', 'tagger', 'ner']) #load small english core library\n",
    "stops = stopwords.words(\"english\") #load stopwords\n",
    "\n",
    "\n",
    "\n",
    "def normalize(text, lowercase, remove_stopwords):\n",
    "    '''\n",
    "    clean the text into desired format for text analysis\n",
    "    '''\n",
    "    text = expand_contractions(text,contractions_dict) #expand english contractions\n",
    "    text = autospell(text) #correct spelling\n",
    "    #text = ' '.join([w.lower() for w in nltk.word_tokenize(text)])  #lowercase\n",
    "    text = re.sub('<[^<]+?>','', text)  #remove brackets\n",
    "    text = ''.join(c for c in text if not c.isdigit())  #remove numbers\n",
    "    text = ''.join(c for c in text if c not in punct)  #remove punctuations\n",
    "    if lowercase:\n",
    "        text = text.lower()  #lowercase\n",
    "    text = nlp(text)\n",
    "    lemmatized = list()\n",
    "    for word in text:\n",
    "        lemma = word.lemma_.strip() #tokenize\n",
    "        if lemma:\n",
    "            if not remove_stopwords or (remove_stopwords and lemma not in stops):  #remove stopwords\n",
    "                lemmatized.append(lemma)\n",
    "    return lemmatized"
   ]
  },
  {
   "cell_type": "markdown",
   "metadata": {},
   "source": [
    "#### Langdetect"
   ]
  },
  {
   "cell_type": "markdown",
   "metadata": {},
   "source": [
    "Before the above pipeline is applied, the dataframe is filtered to contain only English lyrics, and the cleaning function is applied to the lyric column."
   ]
  },
  {
   "cell_type": "code",
   "execution_count": 89,
   "metadata": {},
   "outputs": [],
   "source": [
    "df=pd.read_csv('../data/Hot100Data.csv')\n",
    "df['lang']=df.Lyrics.apply(detect)\n",
    "df=df[df['lang']=='en']\n",
    "df['After_Clean'] = df['Lyrics'].apply(normalize, lowercase=True, remove_stopwords=True)\n",
    "df.drop(columns=['Unnamed: 0','lang'], inplace=True)\n",
    "df.to_csv('cleandata.csv')"
   ]
  },
  {
   "cell_type": "markdown",
   "metadata": {},
   "source": [
    "### TF-IDF"
   ]
  },
  {
   "cell_type": "markdown",
   "metadata": {},
   "source": [
    "#### Helper functions for calculating TF-IDF"
   ]
  },
  {
   "cell_type": "code",
   "execution_count": 34,
   "metadata": {},
   "outputs": [],
   "source": [
    "df_final = pd.read_csv(\"../data/cleandata.csv\",converters={'After_Clean': eval})\n",
    "df_final['doc']=df_final['After_Clean'].apply(lambda x:' '.join(x))\n",
    "\n",
    "# term frequency\n",
    "# t: term\n",
    "# d: document\n",
    "# returns the number of times t appears in d\n",
    "def tf(t, d):\n",
    "    return d.count(t)\n",
    "\n",
    "# inverse document frequency\n",
    "# t: term\n",
    "# N: total number of documents\n",
    "# returns the IDF of a term\n",
    "def idf(t, N, docCount):\n",
    "    n_t = abs(docCount[t]) # number of documents containing t\n",
    "    return math.log(N/n_t, 10)"
   ]
  },
  {
   "cell_type": "markdown",
   "metadata": {},
   "source": [
    "This function takes in a decade dataframe df and returns another dataframe containing the TF-IDF values for each word in the lyrics for df."
   ]
  },
  {
   "cell_type": "code",
   "execution_count": 35,
   "metadata": {},
   "outputs": [],
   "source": [
    "def get_tfidf_df(df):\n",
    "    # dictionary that keeps track of words and the number of documents they appear in\n",
    "    docCount = defaultdict(int)\n",
    "\n",
    "    # build dictionary\n",
    "    for i, row in df.iterrows():\n",
    "        words = row['After_Clean']\n",
    "        r = row['doc']\n",
    "        seen = set() # words seen in current document\n",
    "        for w in words:\n",
    "            # increment docCount for word w if it is in current document\n",
    "            if w not in seen:\n",
    "                docCount[w] += 1\n",
    "                seen.add(w)\n",
    "\n",
    "    # dictionary that keeps track of words and their tfidf values\n",
    "    tfidf_dict = defaultdict(int)\n",
    "\n",
    "    for i, row in df.iterrows():\n",
    "        words = row['After_Clean']\n",
    "        r = row['doc']\n",
    "        for w in words:\n",
    "            my_tf = tf(w, r)\n",
    "            my_idf = idf(w, len(df), docCount)\n",
    "            tfidf_dict[w] += my_tf * my_idf\n",
    "    \n",
    "    # sort by tfidf values, descending\n",
    "    tfidf_counts = [(tfidf_dict[w], w) for w in tfidf_dict]\n",
    "    tfidf_counts.sort()\n",
    "    tfidf_counts.reverse()\n",
    "    \n",
    "    # turn into dataframe\n",
    "    tfidf_df = pd.DataFrame(tfidf_counts)\n",
    "    tfidf_df.columns = [\"TF-IDF\", \"Term\"]\n",
    "    \n",
    "    return tfidf_df"
   ]
  },
  {
   "cell_type": "markdown",
   "metadata": {},
   "source": [
    "Separate `df_final` by decade."
   ]
  },
  {
   "cell_type": "code",
   "execution_count": 36,
   "metadata": {},
   "outputs": [],
   "source": [
    "df_5960 = df_final[df_final['Year'] <= 1969] # includes 1959, 35 observations\n",
    "df_70 = df_final.loc[(df_final['Year'] >= 1970) & (df_final['Year'] <= 1979)] # 14 observations\n",
    "df_80 = df_final.loc[(df_final['Year'] >= 1980) & (df_final['Year'] <= 1989)] # 53 observations\n",
    "df_90 = df_final.loc[(df_final['Year'] >= 1990) & (df_final['Year'] <= 1999)] # 483 observations\n",
    "df_00 = df_final.loc[(df_final['Year'] >= 2000) & (df_final['Year'] <= 2009)] # 1050 observations\n",
    "df_10 = df_final.loc[(df_final['Year'] >= 2010) & (df_final['Year'] <= 2019)] # 1813 observations"
   ]
  },
  {
   "cell_type": "markdown",
   "metadata": {},
   "source": [
    "Get all TF-IDF dataframes for each decade."
   ]
  },
  {
   "cell_type": "code",
   "execution_count": 37,
   "metadata": {},
   "outputs": [],
   "source": [
    "tfidf_5960 = get_tfidf_df(df_5960)\n",
    "tfidf_70 = get_tfidf_df(df_70)\n",
    "tfidf_80 = get_tfidf_df(df_80)\n",
    "tfidf_90 = get_tfidf_df(df_90)\n",
    "tfidf_00 = get_tfidf_df(df_00)\n",
    "tfidf_10 = get_tfidf_df(df_10)"
   ]
  },
  {
   "cell_type": "markdown",
   "metadata": {},
   "source": [
    "Display the top 10 words with the highest TF-IDF values in each decade."
   ]
  },
  {
   "cell_type": "code",
   "execution_count": 38,
   "metadata": {},
   "outputs": [
    {
     "name": "stdout",
     "output_type": "stream",
     "text": [
      "        TF-IDF   Term\n",
      "0  3528.527425  giddy\n",
      "1  1365.798303     la\n",
      "2   675.382202    mia\n",
      "3   675.382202  hound\n",
      "4   675.382202    dog\n",
      "5   675.382202   cara\n",
      "6   662.797982    yes\n",
      "7   652.137928  loose\n",
      "8   571.461853    cry\n",
      "9   546.360327   baby\n",
      "        TF-IDF    Term\n",
      "0  1821.569301     get\n",
      "1   755.517648      ta\n",
      "2   428.651885    numb\n",
      "3   418.798245     hot\n",
      "4   313.148244    want\n",
      "5   224.641095  summer\n",
      "6   197.752941    work\n",
      "7   166.484314   night\n",
      "8   165.042437      la\n",
      "9   165.042437    fade\n",
      "        TF-IDF    Term\n",
      "0  9339.339425    wild\n",
      "1  9339.339425     bow\n",
      "2  3763.164251   break\n",
      "3  3098.438040      ah\n",
      "4  3027.243974       g\n",
      "5  2965.754496  tricky\n",
      "6  2439.434427    jump\n",
      "7  2371.934420    push\n",
      "8  2219.143044    mary\n",
      "9  2056.590288    type\n",
      "         TF-IDF    Term\n",
      "0  22980.031111     dat\n",
      "1  17964.259176       e\n",
      "2  13438.207902    jump\n",
      "3  12980.375201    wake\n",
      "4  11759.790352  weasel\n",
      "5  11037.136383       g\n",
      "6  11016.828822     duh\n",
      "7  10944.511294      ha\n",
      "8   9065.855760     yes\n",
      "9   8084.393376    king\n",
      "          TF-IDF   Term\n",
      "0  129516.286769     la\n",
      "1   32887.481644     da\n",
      "2   25645.327156   boom\n",
      "3   23153.932591    bay\n",
      "4   22696.790845  whoop\n",
      "5   21097.994045     oh\n",
      "6   18524.187733    ooh\n",
      "7   16772.051986     ba\n",
      "8   15867.327993   book\n",
      "9   15638.662945   love\n",
      "         TF-IDF     Term\n",
      "0  78670.614744      wop\n",
      "1  65038.171463       la\n",
      "2  60183.566331       oh\n",
      "3  59070.361629       lu\n",
      "4  48900.801046      low\n",
      "5  48518.580936  versace\n",
      "6  40825.051079   howbow\n",
      "7  37961.048771  diddily\n",
      "8  34845.596914      dah\n",
      "9  31634.612998      wit\n"
     ]
    }
   ],
   "source": [
    "print(tfidf_5960[:10])\n",
    "print(tfidf_70[:10])\n",
    "print(tfidf_80[:10])\n",
    "print(tfidf_90[:10])\n",
    "print(tfidf_00[:10])\n",
    "print(tfidf_10[:10])"
   ]
  },
  {
   "cell_type": "markdown",
   "metadata": {},
   "source": [
    "### Data Visualization"
   ]
  },
  {
   "cell_type": "markdown",
   "metadata": {},
   "source": [
    "#### Setup For Global Variables"
   ]
  },
  {
   "cell_type": "markdown",
   "metadata": {},
   "source": [
    "The main color palette is inspired by matplotlib's 'plasma' palette, the contrasting color scheme is colorblind safe. The corresponding gradient for each color is also colorblind safe. The gradient palette is generated from [chroma.js](https://vis4.net/palettes/#/9|s|00429d,96ffea,ffffe0|ffffe0,ff005e,93003a|1|1)."
   ]
  },
  {
   "cell_type": "markdown",
   "metadata": {},
   "source": [
    "##### Original "
   ]
  },
  {
   "cell_type": "markdown",
   "metadata": {},
   "source": [
    "![Original](https://github.com/COGS108/group001_fa20/blob/master/img/original.png)"
   ]
  },
  {
   "cell_type": "markdown",
   "metadata": {},
   "source": [
    "##### Deutan ![Original](https://github.com/COGS108/group001_fa20/blob/master/img/original.png)"
   ]
  },
  {
   "cell_type": "markdown",
   "metadata": {},
   "source": [
    "![Deutan](https://github.com/COGS108/group001_fa20/blob/master/img/deutan.png)"
   ]
  },
  {
   "cell_type": "code",
   "execution_count": null,
   "metadata": {},
   "outputs": [],
   "source": [
    "##### Protan"
   ]
  },
  {
   "cell_type": "code",
   "execution_count": null,
   "metadata": {},
   "outputs": [],
   "source": [
    "![Protan](https://github.com/COGS108/group001_fa20/blob/master/img/protan.png)"
   ]
  },
  {
   "cell_type": "code",
   "execution_count": null,
   "metadata": {},
   "outputs": [],
   "source": [
    "##### Tritan"
   ]
  },
  {
   "cell_type": "code",
   "execution_count": null,
   "metadata": {},
   "outputs": [],
   "source": [
    "![Tritan](https://github.com/COGS108/group001_fa20/blob/master/img/tritan.png)"
   ]
  },
  {
   "cell_type": "code",
   "execution_count": 75,
   "metadata": {},
   "outputs": [],
   "source": [
    "axesSize = 12\n",
    "titleSize = 14\n",
    "colors = ['#ffa600','#ff6e54','#dd5182','#955196','#444e86','#003f5c']\n",
    "customPalette=sns.color_palette(colors)\n",
    "colorsone=['#420000', '#500e00', '#5e1e00', '#6c2c00', '#7c3a00', '#8b4700', '#9c5500', '#ac6200', '#be7000', '#cf7e00', '#e18d00', '#f29c00', '#ffad0f', '#ffc434', '#ffda4c']\n",
    "colorstwo=['#540000', '#680000', '#7d0000', '#910605', '#a21610', '#b1281b', '#c13726', '#d04631', '#e0533d', '#f06149', '#ff6f55', '#ff886b', '#ff9e7f', '#ffb293', '#ffc6a5']\n",
    "colorsthree=['#4a000e', '#5d001e', '#71002c', '#86003b', '#99074b', '#aa1a58', '#b92d64', '#c83d71', '#d74c7d', '#e75a8a', '#f56998', '#ff7ba9', '#ff92c0', '#ffa7d4', '#ffbce8']\n",
    "colorsfour=['#340039', '#47044a', '#561459', '#652367', '#743276', '#834085', '#934f94', '#a35ea3', '#b36cb3', '#c37cc3', '#d48bd3', '#e49be4', '#f5abf4', '#ffbfff', '#ffd8ff']\n",
    "colorsfive=['#000739', '#011948', '#112558', '#243267', '#344076', '#444e86', '#545d96', '#646ca7', '#747bb8', '#858bc9', '#959bda', '#a6abec', '#b7bcfc', '#cacfff', '#dee2ff']\n",
    "colorssix=['#001730', '#002540', '#00334f', '#05425f', '#1d506e', '#2f5f7e', '#406e8d', '#507d9e', '#618dae', '#719dbf', '#81add0', '#92bee1', '#a3cff3', '#b5e0fe', '#c8f3ff']\n",
    "palone=sns.color_palette(colorsone)\n",
    "paltwo=sns.color_palette(colorstwo)\n",
    "palthree=sns.color_palette(colorsthree)\n",
    "palfour=sns.color_palette(colorsfour)\n",
    "palfive=sns.color_palette(colorsfive)\n",
    "palsix=sns.color_palette(colorssix)"
   ]
  },
  {
   "cell_type": "markdown",
   "metadata": {},
   "source": [
    "#### Distplots and Histogram\n",
    "\n",
    "First we will include 6 distplots of the total raw word counts by decade. Here, we can see the distribution of word counts per decade to see if there are any outstanding ones. \n",
    "\n",
    "Visualization Description:\n",
    "- X-axis: number of words in a song\n",
    "- Y-axis: number of songs with that word count"
   ]
  },
  {
   "cell_type": "code",
   "execution_count": 76,
   "metadata": {},
   "outputs": [],
   "source": [
    "# Find the total word count for a given song\n",
    "def word_count(lst):\n",
    "    total_words = 0\n",
    "    for i in lst:\n",
    "        total_words += 1\n",
    "    return total_words\n",
    "\n",
    "# Create column with word count for specific column. We apply the word_count algorithm \n",
    "# above on the After_Clean column, which contains the cleaned original lyrics after the \n",
    "# Spacy's procedure\n",
    "df_5960['word count'] = df_5960['After_Clean'].apply(word_count)\n",
    "df_70['word count'] = df_70['After_Clean'].apply(word_count)\n",
    "df_80['word count'] = df_80['After_Clean'].apply(word_count)\n",
    "df_90['word count'] = df_90['After_Clean'].apply(word_count)\n",
    "df_00['word count'] = df_00['After_Clean'].apply(word_count)\n",
    "df_10['word count'] = df_10['After_Clean'].apply(word_count)"
   ]
  },
  {
   "cell_type": "code",
   "execution_count": 77,
   "metadata": {
    "scrolled": true
   },
   "outputs": [
    {
     "data": {
      "image/png": "[encoded data removed]",
      "text/plain": [
       "<Figure size 1008x1008 with 6 Axes>"
      ]
     },
     "metadata": {
      "needs_background": "light"
     },
     "output_type": "display_data"
    }
   ],
   "source": [
    "# Graph 6 density plots illustrating the distribution of song lengths for each decade\n",
    "plt.figure(figsize=(14,14))\n",
    "# Spaces out subplots\n",
    "plt.subplots_adjust(wspace=0.5, hspace=0.5)\n",
    "# Constants for column selection, and axes labels\n",
    "column = 'word count'\n",
    "xLabel = 'Word Counts'\n",
    "yLabel = 'Number of Songs'\n",
    "\n",
    "# Subplot format: 3 rows, 2 columns, 1 plot\n",
    "plt.subplot(321)\n",
    "sns.distplot(df_5960[column], bins=10, kde=False,color=colors[0],hist_kws=dict(alpha=1)).set_title('1960s Word Counts', size=titleSize)\n",
    "plt.xlabel(xLabel, size=axesSize)\n",
    "plt.ylabel(yLabel, size=axesSize)\n",
    "\n",
    "# 2nd plot\n",
    "plt.subplot(322)\n",
    "sns.distplot(df_70[column], bins=6, kde=False,color=colors[1],hist_kws=dict(alpha=1)).set_title('1970s Word Counts', size=titleSize)\n",
    "plt.xlabel(xLabel, size=axesSize)\n",
    "plt.ylabel(yLabel, size=axesSize)\n",
    "\n",
    "# 3rd plot\n",
    "plt.subplot(323)\n",
    "sns.distplot(df_80[column], bins=30, kde=False,color=colors[2],hist_kws=dict(alpha=1)).set_title('1980s Word Counts', size=titleSize)\n",
    "plt.xlabel(xLabel, size=axesSize)\n",
    "plt.ylabel(yLabel, size=axesSize)\n",
    "\n",
    "# 4th plot\n",
    "plt.subplot(324)\n",
    "sns.distplot(df_90[column], bins=50, kde=False,color=colors[3],hist_kws=dict(alpha=1)).set_title('1990s Word Counts', size=titleSize)\n",
    "plt.xlabel(xLabel, size=axesSize)\n",
    "plt.ylabel(yLabel, size=axesSize)\n",
    "\n",
    "# 5th plot\n",
    "plt.subplot(325)\n",
    "ax5 = sns.distplot(df_00[column], bins=50, kde=False,color=colors[4],hist_kws=dict(alpha=1)).set_title('2000s Word Counts', size=titleSize)\n",
    "plt.xlabel(xLabel, size=axesSize)\n",
    "plt.ylabel(yLabel, size=axesSize)\n",
    "\n",
    "# 6th plot\n",
    "plt.subplot(326)\n",
    "sns.distplot(df_10[column], bins=50, kde=False,color=colors[5],hist_kws=dict(alpha=1)).set_title('2010s Word Counts', size=titleSize)\n",
    "plt.xlabel(xLabel, size=axesSize)\n",
    "plt.ylabel(yLabel, size=axesSize)\n",
    "\n",
    "plt.show()"
   ]
  },
  {
   "cell_type": "markdown",
   "metadata": {},
   "source": [
    "As shown in the illustrations above, it is evident that the average length of songs have nearly doubled."
   ]
  },
  {
   "cell_type": "code",
   "execution_count": 78,
   "metadata": {},
   "outputs": [
    {
     "name": "stdout",
     "output_type": "stream",
     "text": [
      "1960s Average Length: 101.32352941176471\n",
      "2010s Average Length: 310.17807456872566\n"
     ]
    }
   ],
   "source": [
    "print('1960s Average Length:', df_5960[column].mean())\n",
    "print('2010s Average Length:', df_10[column].mean())"
   ]
  },
  {
   "cell_type": "markdown",
   "metadata": {},
   "source": [
    "We do see an outlier in 1980s, which may skew data in future analyses. However, we can still visually see the differences between the lengths of songs from the 1980s (ie the data is not entirely clustered together).\n",
    "\n",
    "For the most part (due to the law of large numbers), the distributions from the 1990s onwards have a normal distribution. The songs prior, namely the 1960s-70s, do not have a large enough dataset to achieve normality, and the 1980s is skewed right.\n",
    "\n",
    "Next we will include a histogram of the average word counts by decade. Here, we can see the visually plot the differences of song length from decade to decade. This is an extension of the mean calculation above.\n",
    "\n",
    "Visualization Description:\n",
    "- Bins will be decades\n",
    "- X-axis: decade\n",
    "- Y-axis: average word count "
   ]
  },
  {
   "cell_type": "code",
   "execution_count": 79,
   "metadata": {
    "scrolled": true
   },
   "outputs": [
    {
     "data": {
      "image/png": "[encoded data removed]",
      "text/plain": [
       "<Figure size 576x432 with 1 Axes>"
      ]
     },
     "metadata": {
      "needs_background": "light"
     },
     "output_type": "display_data"
    }
   ],
   "source": [
    "# Histogram code for total raw word count here\n",
    "column = 'word count'\n",
    "decades = ['1960s', '1970s', '1980s', '1990s', '2000s', '2010s']\n",
    "means = [df_5960[column].mean(), df_70[column].mean(), \n",
    "         df_80[column].mean(), df_90[column].mean(), \n",
    "         df_00[column].mean(), df_10[column].mean()]\n",
    "\n",
    "df_of_totals = pd.DataFrame({'decades': decades, 'averages': means})\n",
    "\n",
    "plt.figure(figsize=(8,6))\n",
    "sns.barplot(\"decades\", \"averages\", data=df_of_totals, palette=customPalette)\\\n",
    "    .set_title(\"Average Word Count Per Song\", size=titleSize)\n",
    "plt.xlabel('Decades', size=axesSize)\n",
    "plt.ylabel('Average Lengths', size=axesSize)\n",
    "sns.despine()"
   ]
  },
  {
   "cell_type": "markdown",
   "metadata": {},
   "source": [
    "As shown, there is a sharp increase in song count from the 70s to the 80s, increasing again in the 90s and slowly declining ever since. I believe this increase from the 70s to 80s is due to an increase in song duration and an overall shift of rap style. \n",
    "\n",
    "The decline in average word count starting from the 90s can be attributed to an increase in beat oriented rap, versus a more lyrical based one. \n",
    "\n",
    "Our song count from the 60s and 70s are small, but this could be several things. Although we averaged out the word counts, due to the fact that we have a less diverse of a dataset than the subsequent decades, our counts may not be a true representation of rap from the 60s and 70s."
   ]
  },
  {
   "cell_type": "markdown",
   "metadata": {},
   "source": [
    "#### Bar Graphs\n",
    "\n",
    "Next, from the Spacy's dataset, we will construct multiple bar graphs and place them side by side to visually see the most common words of each decade. This way, we can start to get an idea of the differences between each decade of rap music.\n",
    "\n",
    "Visualization Description:\n",
    "- Each graph will have top 15 words\n",
    "- Top 15 words in a bar graph per decade"
   ]
  },
  {
   "cell_type": "code",
   "execution_count": 80,
   "metadata": {},
   "outputs": [],
   "source": [
    "c = Counter()\n",
    "\n",
    "# Apply counter to each dataframe to get a 6 dictionaries each with format \n",
    "# word: frequency\n",
    "word_count_5960 = df_5960['After_Clean'].apply(Counter).sum()\n",
    "word_count_70 = df_70['After_Clean'].apply(Counter).sum()\n",
    "word_count_80 = df_80['After_Clean'].apply(Counter).sum()\n",
    "word_count_90 = df_90['After_Clean'].apply(Counter).sum()\n",
    "word_count_00 = df_00['After_Clean'].apply(Counter).sum()\n",
    "word_count_10 = df_10['After_Clean'].apply(Counter).sum()\n",
    "\n",
    "result5960 = {}\n",
    "result70 = {}\n",
    "result80 = {}\n",
    "result90 = {}\n",
    "result00 = {}\n",
    "result10 = {}\n",
    "\n",
    "for w in sorted(word_count_5960, key=word_count_5960.get, reverse=True):\n",
    "    result5960[w] = word_count_5960[w]\n",
    "\n",
    "for w in sorted(word_count_70, key=word_count_70.get, reverse=True):\n",
    "    result70[w] = word_count_70[w]\n",
    "    \n",
    "for w in sorted(word_count_80, key=word_count_80.get, reverse=True):\n",
    "    result80[w] = word_count_80[w]\n",
    "    \n",
    "for w in sorted(word_count_90, key=word_count_90.get, reverse=True):\n",
    "    result90[w] = word_count_90[w]\n",
    "    \n",
    "for w in sorted(word_count_00, key=word_count_00.get, reverse=True):\n",
    "    result00[w] = word_count_00[w]\n",
    "    \n",
    "for w in sorted(word_count_10, key=word_count_10.get, reverse=True):\n",
    "    result10[w] = word_count_10[w]\n",
    "      \n",
    "# Create dataframe for plotting\n",
    "df5960_counts = pd.DataFrame(list(result5960.items()),columns = ['words','counts'])\n",
    "df70_counts = pd.DataFrame(list(result70.items()),columns = ['words','counts'])\n",
    "df80_counts = pd.DataFrame(list(result80.items()),columns = ['words','counts'])\n",
    "df90_counts = pd.DataFrame(list(result90.items()),columns = ['words','counts'])\n",
    "df00_counts = pd.DataFrame(list(result00.items()),columns = ['words','counts'])\n",
    "df10_counts = pd.DataFrame(list(result10.items()),columns = ['words','counts'])"
   ]
  },
  {
   "cell_type": "code",
   "execution_count": 81,
   "metadata": {},
   "outputs": [
    {
     "data": {
      "image/png": "[encoded data removed]",
      "text/plain": [
       "<Figure size 720x360 with 1 Axes>"
      ]
     },
     "metadata": {
      "needs_background": "light"
     },
     "output_type": "display_data"
    },
    {
     "data": {
      "image/png": "[encoded data removed]",
      "text/plain": [
       "<Figure size 720x360 with 1 Axes>"
      ]
     },
     "metadata": {
      "needs_background": "light"
     },
     "output_type": "display_data"
    },
    {
     "data": {
      "image/png": "[encoded data removed]",
      "text/plain": [
       "<Figure size 720x360 with 1 Axes>"
      ]
     },
     "metadata": {
      "needs_background": "light"
     },
     "output_type": "display_data"
    },
    {
     "data": {
      "image/png": "[encoded data removed]",
      "text/plain": [
       "<Figure size 720x360 with 1 Axes>"
      ]
     },
     "metadata": {
      "needs_background": "light"
     },
     "output_type": "display_data"
    },
    {
     "data": {
      "image/png": "[encoded data removed]",
      "text/plain": [
       "<Figure size 720x360 with 1 Axes>"
      ]
     },
     "metadata": {
      "needs_background": "light"
     },
     "output_type": "display_data"
    },
    {
     "data": {
      "image/png": "[encoded data removed]",
      "text/plain": [
       "<Figure size 720x360 with 1 Axes>"
      ]
     },
     "metadata": {
      "needs_background": "light"
     },
     "output_type": "display_data"
    }
   ],
   "source": [
    "# Constants\n",
    "xVal = 'words'\n",
    "yVal = 'counts'\n",
    "xLabel = 'Words'\n",
    "yLabel = 'Counts'\n",
    "\n",
    "# plot 1\n",
    "plt.figure(figsize=(10,5))\n",
    "top_common_df5960 = df5960_counts.iloc[0:15]\n",
    "ax1 = sns.barplot(xVal, yVal, data=top_common_df5960, palette=palone)\\\n",
    "    .set_title(\"1960's Top 15 Words\", size=titleSize)\n",
    "plt.xlabel(xLabel, size=axesSize)\n",
    "plt.ylabel(yLabel, size=axesSize) \n",
    "sns.despine()\n",
    "\n",
    "# plot 2\n",
    "plt.figure(figsize=(10,5))\n",
    "top_common_df70 = df70_counts.iloc[0:15]\n",
    "ax2 = sns.barplot(xVal, yVal, data=top_common_df70, palette=paltwo)\\\n",
    "    .set_title(\"1970's Top 15 Words\", size=titleSize)\n",
    "plt.xlabel(xLabel, size=axesSize)\n",
    "plt.ylabel(yLabel, size=axesSize)\n",
    "sns.despine()\n",
    "\n",
    "# plot 3\n",
    "plt.figure(figsize=(10,5))\n",
    "top_common_df80 = df80_counts.iloc[0:15]\n",
    "sns.barplot(xVal, yVal, data=top_common_df80, palette=palthree)\\\n",
    "    .set_title(\"1980's Top 15 Words\", size=titleSize)\n",
    "plt.xlabel(xLabel, size=axesSize)\n",
    "plt.ylabel(yLabel, size=axesSize)\n",
    "sns.despine()\n",
    "\n",
    "# plot 4\n",
    "plt.figure(figsize=(10,5))\n",
    "top_common_df90 = df90_counts.iloc[0:15]\n",
    "sns.barplot(xVal, yVal, data=top_common_df90, palette=palfour)\\\n",
    "    .set_title(\"1990's Top 15 Words\", size=titleSize)\n",
    "plt.xlabel(xLabel, size=axesSize)\n",
    "plt.ylabel(yLabel, size=axesSize)\n",
    "sns.despine()\n",
    "\n",
    "# plot 5\n",
    "plt.figure(figsize=(10,5))\n",
    "top_common_df00 = df00_counts.iloc[0:15]\n",
    "sns.barplot(xVal, yVal, data=top_common_df00, palette=palfive)\\\n",
    "    .set_title(\"2000's Top 15 Words\", size=titleSize)\n",
    "plt.xlabel(xLabel, size=axesSize)\n",
    "plt.ylabel(yLabel, size=axesSize)\n",
    "sns.despine()\n",
    "\n",
    "# plot 6\n",
    "plt.figure(figsize=(10,5))\n",
    "top_common_df10 = df10_counts.iloc[0:15]\n",
    "sns.barplot(xVal, yVal, data=top_common_df10, palette=palsix)\\\n",
    "    .set_title(\"2010's Top 15 Words\", size=titleSize)\n",
    "plt.xlabel(xLabel, size=axesSize)\n",
    "plt.ylabel(yLabel, size=axesSize)\n",
    "sns.despine()"
   ]
  },
  {
   "cell_type": "code",
   "execution_count": 46,
   "metadata": {},
   "outputs": [],
   "source": [
    "tes=sns.light_palette(colors[0], as_cmap=True)"
   ]
  },
  {
   "cell_type": "markdown",
   "metadata": {},
   "source": [
    "Keep in mind, that the set of graphs plotted above are depicting the common words of every dataframe. This is BEFORE/WITHOUT tf-idf alteration. \n",
    "\n",
    "It is also interesting to see that some of the words that had a very high word count in the decade prior were not able to sustain their spot as the top 15 words once more. This gives an analyst a better understanding of when song lyrics stopped incorporating these older words and what words came to replace those. \n",
    "\n",
    "Moreover, some inferences regarding trends can be made from a few words like \"Summer\" and \"Night\" which were among the top 10 words with the highest word count in songs from the 1970s.\n",
    "\n",
    "The relationships between the decades indicate how the top 15 words changed and how some words maintained their\n",
    "popularity amongst songs. The outliers are primarily the verbs in song lyrics that weren't meaningful or important\n",
    "to help our analysis.\n",
    "\n",
    "From what we can see, there are a lot of filler words or verbs that hadn't been removed through the spacy's algorithm. \n",
    "Here are some of the most common words, that maybe aren't that helpful in determining whether or not rap is repetitive:\n",
    "\n",
    "- 1960s: yes, come, oh, get, know, ta\n",
    "- 1970s: get, want, ta, go, feel, much, yes, let, right\n",
    "- 1980s: get, like, go, say, make, know\n",
    "- 1990s: get, like, know, na, make, come, say, see, let\n",
    "- 2000s: get, like, know, go, na, yes, see, let, say, make\n",
    "- 2010s: get, like, know, go, oh, make, na\n",
    "\n",
    "But even with this dump data, we can start to see some obvious similaries between each decade. For example, 'like' has a consistently high word count because it is used to represent feeling or action in listeners. Also, as stated above, tiny words like 'go', 'na', 'oh', 'yes', and 'right' are all ad-libs that have been used in higher frequency over the years.\n",
    "\n",
    "Now we look at the data that is a little more useful:\n",
    "\n",
    "- 1960s: baby, giddy, love, kiss, man\n",
    "- 1970s: hot, work, numb, night, summer, long\n",
    "- 1980s: love, girl, rock, break, verse, baby\n",
    "- 1990s: love, verse, baby\n",
    "- 2000s: love, girl, baby, verse\n",
    "- 2010s: fuck, chorus, love, nigra, bitch\n",
    "\n",
    "Notice the incredibly fast shift in tone from the 2000s to the 2010s. It became so vulgar! Lots of contemporary rap has lost the heart and soul that it once originally had (as stated in our Background Research and Past Studies section). Words like fuck and bitch have become extraordinarily popular among young ears, but we can also see that lots of rap music is still oriented around the main topics of love, namely, from men singing about women (given by words such as girl, baby, love, and kiss).\n",
    "\n",
    "Due to the fact that these are raw counts, we cannot make any definitive conclusions from decade to decade, however, this section has given us an idea of what the most popular words are. "
   ]
  },
  {
   "cell_type": "markdown",
   "metadata": {},
   "source": [
    "Next, from the TF-IDF dataset, we will again construct mutliple bar graphs and place them side by side to visually see the set of unique words from each decade. This way, we will clearly get to see if there is a vast difference of overarching themes from one decade to another.\n",
    "\n",
    "Visualization Description:\n",
    "- Data: TF-IDF's\n",
    "- Top 15 unique words in a bar graph per decade"
   ]
  },
  {
   "cell_type": "code",
   "execution_count": 82,
   "metadata": {
    "scrolled": true
   },
   "outputs": [
    {
     "data": {
      "image/png": "[encoded data removed]",
      "text/plain": [
       "<Figure size 720x432 with 1 Axes>"
      ]
     },
     "metadata": {
      "needs_background": "light"
     },
     "output_type": "display_data"
    },
    {
     "data": {
      "image/png": "[encoded data removed]",
      "text/plain": [
       "<Figure size 720x432 with 1 Axes>"
      ]
     },
     "metadata": {
      "needs_background": "light"
     },
     "output_type": "display_data"
    },
    {
     "data": {
      "image/png": "[encoded data removed]",
      "text/plain": [
       "<Figure size 720x432 with 1 Axes>"
      ]
     },
     "metadata": {
      "needs_background": "light"
     },
     "output_type": "display_data"
    },
    {
     "data": {
      "image/png": "[encoded data removed]",
      "text/plain": [
       "<Figure size 720x432 with 1 Axes>"
      ]
     },
     "metadata": {
      "needs_background": "light"
     },
     "output_type": "display_data"
    },
    {
     "data": {
      "image/png": "[encoded data removed]",
      "text/plain": [
       "<Figure size 720x432 with 1 Axes>"
      ]
     },
     "metadata": {
      "needs_background": "light"
     },
     "output_type": "display_data"
    },
    {
     "data": {
      "image/png": "[encoded data removed]",
      "text/plain": [
       "<Figure size 720x432 with 1 Axes>"
      ]
     },
     "metadata": {
      "needs_background": "light"
     },
     "output_type": "display_data"
    }
   ],
   "source": [
    "# Bar Graph code for most unique words per decade here\n",
    "figure_size=(10,6)\n",
    "xLabel = 'TF-IDF'\n",
    "yLabel = 'Term'\n",
    "\n",
    "# plot 1\n",
    "data1= tfidf_5960[:15]\n",
    "plt.figure(figsize=figure_size)\n",
    "sns.barplot(xLabel, yLabel, data = data1, palette=palone)\\\n",
    "    .set_title(\"Top 15 Words 1960s\", size=titleSize)\n",
    "plt.xlabel(xLabel, size=axesSize)\n",
    "plt.ylabel(yLabel, size=axesSize)\n",
    "sns.despine()\n",
    "\n",
    "# plot 2\n",
    "data2 = tfidf_70[:15]\n",
    "plt.figure(figsize = figure_size)\n",
    "sns.barplot(xLabel, yLabel, data = data2, palette=paltwo)\\\n",
    "    .set_title(\"Top 15 Words 1970s\", size=titleSize)\n",
    "sns.despine()\n",
    "\n",
    "# plot 3\n",
    "data3 = tfidf_80[:15]\n",
    "plt.figure(figsize = figure_size)\n",
    "sns.barplot(xLabel, yLabel, data = data3, palette=palthree)\\\n",
    "    .set_title(\"Top 15 Words 1980s\", size=titleSize)\n",
    "sns.despine()\n",
    "\n",
    "# plot 4\n",
    "data4 = tfidf_90[:15]\n",
    "plt.figure(figsize = figure_size)\n",
    "sns.barplot(xLabel, yLabel, data = data4, palette=palfour)\\\n",
    "    .set_title(\"Top 15 Words 1990s\", size=titleSize)\n",
    "sns.despine()\n",
    "\n",
    "# plot 5\n",
    "data5 = tfidf_00[:15]\n",
    "plt.figure(figsize = figure_size)\n",
    "sns.barplot(xLabel, yLabel, data = data5, palette=palfive)\\\n",
    "    .set_title(\"Top 15 Words 2000s\", size=titleSize)\n",
    "sns.despine()\n",
    "\n",
    "# plot 6\n",
    "data6 = tfidf_10[:15]\n",
    "plt.figure(figsize = figure_size)\n",
    "sns.barplot(xLabel, yLabel, data = data6, palette=palsix)\\\n",
    "    .set_title(\"Top 15 Words 2010s\", size=titleSize)\n",
    "sns.despine()\n"
   ]
  },
  {
   "cell_type": "markdown",
   "metadata": {},
   "source": [
    "Note: Some of the words appearing in the dataset are clearly not coherent English. This is either due to Spacy's algorithm or to the nature of some songs themselves. This may have skewed our results in an unanticipated way.\n",
    "\n",
    "\n",
    "Here, we start to reinforce the idea that the number of words with no meaning increase as move from 1960s - 2010s.  \n",
    "\n",
    "Instead of looking at the common words per decade, we can see what unique words have stood out from decade to decade, and tie it back to the overarching themes of rap. It is also shown that a lot of the top words in the later decades are short filler ad libs. \n",
    "\n",
    "For each decade, let's take the most (coherent) words and put them in a list:\n",
    "\n",
    "- 1960s: hound, dog, loose, cry, baby, magic, america\n",
    "- 1970s: numb, hot, summer, work, night, fade, glide, long, away \n",
    "- 1980s: wild, tricky, jump, twist, west, pump\n",
    "- 1990s: jump, wake, weasel, king, whatta, alone, hump, love\n",
    "- 2000s: boom, whoop, book, love\n",
    "- 2010s: versace, diddily, ock, love\n",
    "\n",
    "Now, looking at each list of words for the corresponding decade, let's try to summarize each with some inference:\n",
    "\n",
    "- 1960s: Around this time, the words may be a little more meaningful just because of the Civil Rights Movement. 'Dog' may refer to someone's pal or buddy, which suggests that artists may have trying to band together with their 'dog[s]' to make a chance in America. Loose and cry are a little bit negatively connotated and that's exaclty how some artists may have been feeling during this time. 'Baby' and 'magic' may refer to love.\n",
    "\n",
    "- 1970s: This could be an aftershock of the Civil Rights Movement and how opportunities across America were booming for everyone. Many people started to talk about long nights of work, and maybe how numb it made them feel. It is a little surprising to see that there is no occurrences of psycoactive drugs (LSD, heroin, cannabis, cocaine, etc.), but possibly the words 'glide', 'fade', 'long', and 'away' refer to the getaway that drugs provided for people. The 70s was the year of drug misuse and initiated Nixon's 'War on Drugs'\n",
    "\n",
    "- 1980s: This may be a partying decade. 'Wild', 'jump', and 'twist' could all be describing the energy of the population and how hype rap was. Little did the 1980s know, rap is only going to get more popular from here! 'West' and 'pump' could signify the strength or the confidence that the 'westside' had and either pump could mean the pump someone would receieve after doing drugs or a pump shotgun, perhaps.\n",
    "\n",
    "- 1990s: This decade thrusted rap into the theme of power. 'King' and 'weasel' are the polar opposites that might be used in a bar to offset the kings (artists with a lot of money) from people that are weasels (regular people with not a lot of money). And the fact of the matter is, some people enjoyed and still enjoy listening to this type of music because it makes them feel as if they're in a place of power themselves, living through the artist's life. 'Hump', 'love', and (maybe) 'alone' refer to sex and the gratification that arises from it, which also ties back into power.\n",
    "\n",
    "- 2000s: This is where rap starts taking a turn. Looking at the list itself, it is relatively short compared to preceding years. This is because the top TF-IDF values are nonsense (refer to Note above) and could refer to the increased use of ad-libs and/or popularity towards mumble rap. 'Boom', and 'whoop', although slightly awkward, may have been heavily used as ad-libs in songs during the 2000s. But again, cross-referencing this with the graphs of the common words for each decade, we see that 'love' and/or sex have been recurring themes.\n",
    "\n",
    "- 2010s: This is the same situation as 2000s: we see that many words appear incomprehensible in the graph. But we've finally reached the decade where 'versace', which is an Italian luxury fashion company, has become prominent. The 2010s has ushered into a decade where style and fashion is the simple yet dominant way of flexing and displaying power. 'Love' and 'ock' (which probably refers to something inappropriate), as said previously, is again prominent.  \n",
    "\n",
    "Looking at the graphs at a whole, you also see that there is a drastic loss in meaning of words in the later decades. Cross-referencing this with the inference bodies above, and you see there is a clear gradual diversion from 'changing America for the better and hard work' to 'power in drinking, guns, and sex'. \n",
    "\n",
    "However, this isn't to say that old rap didn't cover topics that are considered indecent. Solely looking at the 1970s, we see that drugs used to be very popular then, too. But generally speaking, contemporary rap doesn't talk about making change anymore, and that's the problem."
   ]
  },
  {
   "cell_type": "markdown",
   "metadata": {},
   "source": [
    "#### Boxplot\n",
    "Lastly, we will look at a boxplot so we can get an better idea of how the unique words have changed over time.\n",
    "\n",
    "The bottom barplot visualizes the mean, median, and mode for each word after we've run our TF-IDF algorithm on our set of lyrics.\n",
    "\n",
    "Visualization Description:\n",
    "- Data: TF-IDF's\n",
    "- X-axis: words\n",
    "- Y-axis: tf-idf values\n",
    "\n",
    "We will get the top 7 words from each decade, take the log of each of their TF-IDF values as a normalization step, and plot them in a box and whisker plot.\n",
    "\n",
    "The following cell allows for blackbox creation of plottable dataframes for TF-IDF values."
   ]
  },
  {
   "cell_type": "code",
   "execution_count": 24,
   "metadata": {},
   "outputs": [],
   "source": [
    "# VARIABLE DEFINITIONS\n",
    "# numKeywords - number of keywords in final dataframe\n",
    "# offset - top numKeywords words from 1-numKeywords, numKeywords+1, 2*numKeywords, ...\n",
    "\n",
    "\n",
    "# Return 6 plottable dataframes which contain the highest numKeywords words \n",
    "# with the highest tf-idf values. That is, each returned dataframe will have\n",
    "# numKeywords words where each word has a tf-idf value for each decade.\n",
    "def unique_words_df(numKeywords=3, offset=0):\n",
    "    tfidf_5960_top_for_decades = find_tfidf_values('tfidf_5960', numKeywords, offset)\n",
    "    tfidf_70_top_for_decades = find_tfidf_values('tfidf_70', numKeywords, offset)\n",
    "    tfidf_80_top_for_decades = find_tfidf_values('tfidf_80', numKeywords, offset)\n",
    "    tfidf_90_top_for_decades = find_tfidf_values('tfidf_90', numKeywords, offset)\n",
    "    tfidf_00_top_for_decades = find_tfidf_values('tfidf_00', numKeywords, offset)\n",
    "    tfidf_10_top_for_decades = find_tfidf_values('tfidf_10', numKeywords, offset)\n",
    "\n",
    "    tfidf_df_5960_top = make_plotting_df(tfidf_5960_top_for_decades)\n",
    "    tfidf_df_70_top = make_plotting_df(tfidf_70_top_for_decades)\n",
    "    tfidf_df_80_top = make_plotting_df(tfidf_80_top_for_decades)\n",
    "    tfidf_df_90_top = make_plotting_df(tfidf_90_top_for_decades)\n",
    "    tfidf_df_00_top = make_plotting_df(tfidf_00_top_for_decades)\n",
    "    tfidf_df_10_top = make_plotting_df(tfidf_10_top_for_decades)\n",
    "\n",
    "    return [tfidf_df_5960_top,\n",
    "                          tfidf_df_70_top, \n",
    "                          tfidf_df_80_top, \n",
    "                          tfidf_df_90_top, \n",
    "                          tfidf_df_00_top, \n",
    "                          tfidf_df_10_top]\n",
    "\n",
    "\n",
    "\n",
    "# Create a plottable dataframe from an array of tuples containing\n",
    "# information about the tf-idf values for numKeywords words\n",
    "def make_plotting_df(tfidf_vals):\n",
    "    col1 = []\n",
    "    col2 = []\n",
    "    col3 = []\n",
    "    for wordEntry in tfidf_vals:\n",
    "        for year in wordEntry:\n",
    "            yr = ''\n",
    "            if year[0] == '00' or year[0] == '10':\n",
    "                yr = f'20{year[0]}'\n",
    "            else:\n",
    "                yr = f'19{year[0]}'\n",
    "            tfidf_val = year[1]\n",
    "            word = year[2]\n",
    "            col1.append(yr)\n",
    "            col2.append(word)\n",
    "            col3.append(tfidf_val)\n",
    "    resDf = pd.DataFrame(data={'year': col1, 'word': col2, 'tfidf_val': col3})\n",
    "    resDf.sort_values(by=['year'], inplace=True)\n",
    "    resDf.reset_index(drop=True, inplace=True)\n",
    "    return resDf\n",
    "\n",
    "\n",
    "# Given a dataframe containing song data from a certain year (A), go through every\n",
    "# other year's dataframe and find the tf-idf values for the words with the highest\n",
    "#  tf-idf values in A. \n",
    "def find_tfidf_values(tfidf_df, numKeywords, offset):\n",
    "    current_year = tfidf_df.split('_')[1]\n",
    "    if current_year == '5960':\n",
    "        current_year = '60'\n",
    "    df = eval(tfidf_df)\n",
    "    years = {'60', '70', '80', '90', '00', '10'}\n",
    "    years.remove(current_year)\n",
    "    values = []\n",
    "\n",
    "    for i in range(numKeywords): \n",
    "        year_data = []\n",
    "        row = df.iloc[i + offset]\n",
    "        tf_idf = row['TF-IDF']\n",
    "        word = row['Term']\n",
    "        year_data.append((current_year, tf_idf, word))\n",
    "        for year in years:\n",
    "            if year == '60':\n",
    "                year = '5960'\n",
    "            year_data.append(find_term_in_df(f'tfidf_{year}', word))\n",
    "        values.append(year_data)\n",
    "    return values\n",
    "\n",
    "\n",
    "# Given a dataframe, find if the term has a non-zero TF-IDF value.\n",
    "# If it does, return the term, its tf-idf value, and the current-year\n",
    "# Otherwise, return a 0\n",
    "def find_term_in_df(tfidf_df_str, term):\n",
    "    current_year = tfidf_df_str.split('_')[1]\n",
    "    if current_year == '5960':\n",
    "        current_year = '60'\n",
    "    df = eval(tfidf_df_str)\n",
    "    res = df.loc[df['Term'] == term]\n",
    "    if (res.empty):\n",
    "        return (current_year, 0, term)\n",
    "    else:\n",
    "        return (current_year, res['TF-IDF'].values[0], term)"
   ]
  },
  {
   "cell_type": "markdown",
   "metadata": {},
   "source": [
    "The following functions allow for blackbox creation of line graphs and box plots."
   ]
  },
  {
   "cell_type": "code",
   "execution_count": 25,
   "metadata": {},
   "outputs": [],
   "source": [
    "# Line Graph code for unique words per decade here\n",
    "# figure_size: size of graph for plotting\n",
    "def show_line_graph(data, figure_size):\n",
    "    ax = plt.subplots(figsize=figure_size)\n",
    "    ax = sns.lineplot(data=data, x='year', y='tfidf_val', hue='word', palette=sns.color_palette(\"Set2\", 6))\n",
    "    sns.despine()\n",
    "    ax.set_xlabel('Decade', size=20)\n",
    "    ax.set_ylabel('TF-IDF Values', size=20)\n",
    "    ax.axes.set_title('Unique words per decade', size=25)\n",
    "\n",
    "    for x, y in zip(data['year'], data['tfidf_val']):\n",
    "        plt.text(x = x, y = y-150, s='{:.0f}'.format(y))\n",
    "\n",
    "    plt.show()\n",
    "    \n",
    "\n",
    "# Boxplot code for unique words per decade here\n",
    "# figure_size: size of graph for plotting\n",
    "# observations: number of total observations in graph\n",
    "# year: year of boxplot instance\n",
    "# plotNum: subplot number for identification\n",
    "def show_boxplot(data, figure_size, observations, year, plotNum=0):\n",
    "    if plotNum > 4:\n",
    "        print('Maximum subplots reached')\n",
    "        return\n",
    "    \n",
    "    plotNumOffset = 220\n",
    "    \n",
    "    data['tfidf_val'] = data['tfidf_val'].replace(0, 1)\n",
    "    data['log_tfidf_val'] = np.log10(data['tfidf_val'])\n",
    "    ax = plt.subplots(figsize=figure_size)\n",
    "    ax = plt.subplot(plotNum + plotNumOffset)\n",
    "    ax = sns.boxplot(x='word', y='log_tfidf_val', data=data, palette='Purples')\n",
    "    sns.despine()\n",
    "    ax.set_xlabel('Words', size=axesSize)\n",
    "    ax.set_ylabel('TF-IDF Values', size=axesSize)\n",
    "    ax.axes.set_title(f'Box Plot for Top {observations} TF-IDF Values from {year}', size=titleSize)\n",
    "    \n",
    "    plt.show()"
   ]
  },
  {
   "cell_type": "markdown",
   "metadata": {},
   "source": [
    "We realized that the TF-IDF values (like shown with the barplots above), will be largely skewed in the boxplots, so some words, with a noticable difference in TF-IDF value, may not visually appear correctly. \n",
    "\n",
    "To correct this, we decided to take the log of the TF-IDF values. In doing, so we realized that, because some decades may not contain the words from other decades, our dataframe will have words with a TF-IDF value of 0, which we cannot take the log of. So to further correct this, as demonstrated in A3, we simply replace the TF-IDF value with one that will not jeopardize the overall goal of the visualization."
   ]
  },
  {
   "cell_type": "code",
   "execution_count": 26,
   "metadata": {
    "scrolled": true
   },
   "outputs": [
    {
     "name": "stdout",
     "output_type": "stream",
     "text": [
      "    year   word      tfidf_val  log_tfidf_val\n",
      "0   1960  giddy    3528.527425       3.547593\n",
      "1   1960    dog     675.382202       2.829550\n",
      "2   1960     la    1365.798303       3.135387\n",
      "3   1960  hound     675.382202       2.829550\n",
      "4   1960    mia     675.382202       2.829550\n",
      "5   1970  giddy       1.000000       0.000000\n",
      "6   1970    dog       1.000000       0.000000\n",
      "7   1970  hound       1.000000       0.000000\n",
      "8   1970     la     165.042437       2.217596\n",
      "9   1970    mia       1.000000       0.000000\n",
      "10  1980  hound       1.000000       0.000000\n",
      "11  1980    mia       1.724276       0.236607\n",
      "12  1980    dog       2.846492       0.454310\n",
      "13  1980  giddy       1.000000       0.000000\n",
      "14  1980     la     450.355319       2.653555\n",
      "15  1990     la    5824.262459       3.765241\n",
      "16  1990    dog    1123.342583       3.050512\n",
      "17  1990    mia     361.771828       2.558435\n",
      "18  1990  giddy       2.683047       0.428628\n",
      "19  1990  hound       1.000000       0.000000\n",
      "20  2000    dog     556.809654       2.745707\n",
      "21  2000  giddy       5.438663       0.735492\n",
      "22  2000    mia      48.529501       1.686006\n",
      "23  2000     la  129516.286769       5.112324\n",
      "24  2000  hound       7.629720       0.882509\n",
      "25  2010  giddy     474.939987       2.676639\n",
      "26  2010     la   65038.171463       4.813168\n",
      "27  2010    mia     143.438943       2.156667\n",
      "28  2010    dog    1955.388314       3.291233\n",
      "29  2010  hound      30.551695       1.485035\n"
     ]
    }
   ],
   "source": [
    "numTopWordsPerDecade = 5\n",
    "# Unpacking\n",
    "df_res_5960, df_res_70, df_res_80, df_res_90, df_res_00, df_res_10 = unique_words_df(numTopWordsPerDecade)\n",
    "\n",
    "# Replacing 0s with 1s, so the log10(1) = 0\n",
    "df_res_5960['tfidf_val'] = df_res_5960['tfidf_val'].replace(0, 1)\n",
    "df_res_70['tfidf_val'] = df_res_70['tfidf_val'].replace(0, 1)\n",
    "df_res_80['tfidf_val'] = df_res_80['tfidf_val'].replace(0, 1)\n",
    "df_res_90['tfidf_val'] = df_res_90['tfidf_val'].replace(0, 1)\n",
    "df_res_00['tfidf_val'] = df_res_00['tfidf_val'].replace(0, 1)\n",
    "df_res_10['tfidf_val'] = df_res_10['tfidf_val'].replace(0, 1)\n",
    "\n",
    "# Taking the log and storing into a different column for plotting\n",
    "df_res_5960['log_tfidf_val'] = np.log10(df_res_5960['tfidf_val'])\n",
    "df_res_70['log_tfidf_val'] = np.log10(df_res_70['tfidf_val'])\n",
    "df_res_80['log_tfidf_val'] = np.log10(df_res_80['tfidf_val'])\n",
    "df_res_90['log_tfidf_val'] = np.log10(df_res_90['tfidf_val'])\n",
    "df_res_00['log_tfidf_val'] = np.log10(df_res_00['tfidf_val'])\n",
    "df_res_10['log_tfidf_val'] = np.log10(df_res_10['tfidf_val'])\n",
    "\n",
    "# Visually shows the format of one dataframe, so you can get an idea of what the others look like too\n",
    "print(df_res_5960)"
   ]
  },
  {
   "cell_type": "code",
   "execution_count": 54,
   "metadata": {
    "scrolled": true
   },
   "outputs": [
    {
     "data": {
      "image/png": "[encoded data removed]",
      "text/plain": [
       "<Figure size 1008x1224 with 6 Axes>"
      ]
     },
     "metadata": {
      "needs_background": "light"
     },
     "output_type": "display_data"
    }
   ],
   "source": [
    "# Graphing cell!\n",
    "# Constants (in order to avoid magic numbers and strings)\n",
    "figure_size = (14, 17)\n",
    "x = 'word'\n",
    "xLabel = 'Words'\n",
    "y = 'log_tfidf_val'\n",
    "yLabel = 'TF-IDF Values'\n",
    "plotLayout = 320\n",
    "beginStr = f'Box Plot for Top {numTopWordsPerDecade} Log TF-IDF Values from'\n",
    "plt.figure(figsize=figure_size)\n",
    "plt.subplots_adjust(wspace=0.5, hspace=0.5)\n",
    "\n",
    "\n",
    "# plot 1\n",
    "plotNum = 1\n",
    "plt.subplot(plotLayout + plotNum)\n",
    "ax1 = sns.boxplot(x=x, y=y, data=df_res_5960, color=colors[0])\n",
    "sns.despine()\n",
    "ax1.set_xlabel(xLabel, size=axesSize)\n",
    "ax1.set_ylabel(yLabel, size=axesSize)\n",
    "ax1.axes.set_title(f'{beginStr} 1960', size=titleSize)\n",
    "\n",
    "# plot 2\n",
    "plotNum = 2\n",
    "plt.subplot(plotLayout + plotNum)\n",
    "ax2 = sns.boxplot(x=x, y=y, data=df_res_70, color=colors[1])\n",
    "sns.despine()\n",
    "ax2.set_xlabel(xLabel, size=axesSize)\n",
    "ax2.set_ylabel(yLabel, size=axesSize)\n",
    "ax2.axes.set_title(f'{beginStr} 1970', size=titleSize)\n",
    "\n",
    "# plot 3\n",
    "plotNum = 3\n",
    "plt.subplot(plotLayout + plotNum)\n",
    "ax3 = sns.boxplot(x=x, y=y, data=df_res_80, color=colors[2])\n",
    "sns.despine()\n",
    "ax3.set_xlabel(xLabel, size=axesSize)\n",
    "ax3.set_ylabel(yLabel, size=axesSize)\n",
    "ax3.axes.set_title(f'{beginStr} 1980', size=titleSize)\n",
    "\n",
    "# plot 4\n",
    "plotNum = 4\n",
    "plt.subplot(plotLayout + plotNum)\n",
    "ax4 = sns.boxplot(x=x, y=y, data=df_res_90, color=colors[3])\n",
    "sns.despine()\n",
    "ax4.set_xlabel(xLabel, size=axesSize)\n",
    "ax4.set_ylabel(yLabel, size=axesSize)\n",
    "ax4.axes.set_title(f'{beginStr} 1990', size=titleSize)\n",
    "\n",
    "# plot 5\n",
    "plotNum = 5\n",
    "plt.subplot(plotLayout + plotNum)\n",
    "ax5 = sns.boxplot(x=x, y=y, data=df_res_00, color=colors[4])\n",
    "sns.despine()\n",
    "ax5.set_xlabel(xLabel, size=axesSize)\n",
    "ax5.set_ylabel(yLabel, size=axesSize)\n",
    "ax5.axes.set_title(f'{beginStr} 2000', size=titleSize)\n",
    "\n",
    "# plot 6\n",
    "plotNum = 6\n",
    "plt.subplot(plotLayout + plotNum)\n",
    "ax6 = sns.boxplot(x=x, y=y, data=df_res_10, color=colors[5])\n",
    "sns.despine()\n",
    "ax6.set_xlabel(xLabel, size=axesSize)\n",
    "ax6.set_ylabel(yLabel, size=axesSize)\n",
    "ax6.axes.set_title(f'{beginStr} 2010', size=titleSize)\n",
    "\n",
    "plt.show()"
   ]
  },
  {
   "cell_type": "code",
   "execution_count": 28,
   "metadata": {
    "scrolled": false
   },
   "outputs": [
    {
     "name": "stdout",
     "output_type": "stream",
     "text": [
      "hound's mean: 0.8662 \n",
      "        compared to max of 5.1123 in 1960\n",
      "\n",
      "numb's mean: 2.0694 \n",
      "        compared to max of 4.0009 in 1970\n",
      "\n",
      "wild's mean: 2.3055 \n",
      "        compared to max of 4.1502 in 1980\n",
      "\n",
      "weasel's mean: 0.6784 \n",
      "        compared to max of 4.3875 in 1990\n",
      "\n",
      "bay's mean: 1.2317 \n",
      "        compared to max of 5.1123 in 2000\n",
      "\n",
      "lu's mean: 1.1093 \n",
      "        compared to max of 5.1123 in 2010\n",
      "\n"
     ]
    }
   ],
   "source": [
    "def return_mean(dataframeStr, word):\n",
    "    year = dataframeStr.split('_')[2]\n",
    "    decade = '19'\n",
    "    if year == '5960':\n",
    "        year = '60'\n",
    "    if year == '00' or year == '10':\n",
    "        decade = '20'\n",
    "    \n",
    "    df = eval(dataframeStr)\n",
    "    maxVal = max(df['log_tfidf_val'])\n",
    "    res = df[df['word'] == word].mean()['log_tfidf_val']\n",
    "    print(f'{word}\\'s mean: {round(res, 4)} \\n\\\n",
    "        compared to max of {round(maxVal, 4)} in {decade}{year}\\n')\n",
    "\n",
    "    \n",
    "return_mean('df_res_5960', 'hound')\n",
    "return_mean('df_res_70', 'numb')\n",
    "return_mean('df_res_80', 'wild')\n",
    "return_mean('df_res_90', 'weasel')\n",
    "return_mean('df_res_00', 'bay')\n",
    "return_mean('df_res_10', 'lu')"
   ]
  },
  {
   "cell_type": "markdown",
   "metadata": {},
   "source": [
    "Each graph has 5 words which represent the top 5 words from that decade after TF-IDF adjustments. \n",
    "\n",
    "Let's analyze each decade separately:\n",
    "\n",
    "- 1960s: Even though 'giffy' had the highest TF-IDF value, we see that 'la' has been consistently high through each decade with its maximum being 5.11, whereas 'hound' (mean of 0.866) and 'giddy', because they have low means, are more unique to the 1960s.\n",
    "\n",
    "- 1970s: 'Get' was pretty consistent throughout every decade, but it seems 'ta' even more so. Therefore, in this graph we don't see any unexpected results, other than the fact that 'numb' (mean of 2.0694)  was more unique to this decade.\n",
    "\n",
    "- 1980s: 'G' was the most common word throughout the decades. Every word besides 'wild' (mean of 2.305) was found in every decade, each occurrence with a high TF-IDF value. 'Wild' was the most unique to the 1980s.\n",
    "\n",
    "- 1990s: 'E' was the most common word throughout the decades. 'Weasel' had the lowest of the low in terms of average TF-IDF values (mean of 0.678). That means it was the most unique word in the 1990's.\n",
    "\n",
    "- 2000s: 'La' was the most common word throughout the decades. 'Bay' had the lowest TF-IDF value (mean of 1.232), which means it was the most unique word in the 2000s.\n",
    "\n",
    "- 2010s: 'La' was the most common word throughout the decades. 'Lu\" had the lowest TF-IDF value (mean of 1.109), which means it was the most unique word in the 2010s."
   ]
  },
  {
   "cell_type": "markdown",
   "metadata": {},
   "source": [
    "### Analysis"
   ]
  },
  {
   "cell_type": "markdown",
   "metadata": {},
   "source": [
    "1. What approaches did you use? Why? \n",
    "    - We wanted to focus on getting lyrics that were cleaned (without stop words, brackets, punctuation, etc.) and create visualizations from two sets of data: on raw data and data adjusted from TF-IDF. This way, we could see what the most common words were, and what words were unique to each decade, respectively.<br><br>\n",
    "\n",
    "2. How did you go about cleaning the data and looking at lyrics? Why did you think this was the best way to go about conducting this analysis/study?\n",
    "    - We started with a dataset of over 28000 songs and had to trim it to about 3800. We only set out to analyze rap songs, so we just checked the genre list of each song and checked to see if it included 'rap'. Then, we retrieved the lyrics, and dropped songs whose lyrics we could not successfully scrape (Genius). Lastly, we used Spacy to remove any stop words, expand contractions for easier parsing, correct spelling of words with nltk, and normalized the data (tokenizing, removing  redundant symbols, etc.) so we could conduct our analysis. This was the best way to go about cleaning the data because it allowed us to focus on keywords of the songs instead of including random stop words in our visualizations.<br><br>\n",
    "\n",
    "3. What were the results? Verbatim: talk about the data and what you found. State any crazy or interesting findings here.\n",
    "\t- We saw that the average length of songs gradually increased over the years. This may explain how the increased addition of ad-libs became a normality. The data also shows each decade had many verbs and incoherent words as top words. Also, every decade had a common overarching theme of 'love' (and perhaps 'sex'), even though they differed in many ways. In our TF-IDF graph and barplot, we saw that, perhaps to do the influence of society during that time, decades focused on specific topics and were constantly changing. Although, both sets of barplots indicate that the 2000s had introduced a new wave of popularity for profanity, flexing style, and sex.<br><br>\n",
    "\n",
    "4. Has rap music changed according to the data? Or has it remained the same in terms of topics?\n",
    "\t- According to the data, rap music has evolved over the decades, but we can see there is an 'almighty' overarching theme of love. Although rap post-2000s didn't focus on any global events from the looks of it, we can see that rap pre-2000s did. Topics ranged from fixing America, to the gratification of drugs, partying, and power. In place of a global event, contemporary rap has found a home in a mix of these genres: partying, power, and drugs, while introducing a new craze for fashion and an increased emphasis on love and sex. <br><br>\n",
    "\n",
    "\n",
    "5. What was your interpretation of these findings? Connect this back to your question and hypothesis. \n",
    "\t- These findings DO NOT suggest that rap has focused on the same topic for the past 60 years. We can see that the most popular topics in contemporary rap are under the umbrella stated above, but this does not necessarily mean that rap music's lyrics have become repetitive and monotonous. We can see in our bar graphs of the top unique words, many of them are incoherent compared to preceding decades. Therefore, poor lyrical choices may have disconnected rap from societal issues, and the study suggests so. <br><br>"
   ]
  },
  {
   "cell_type": "markdown",
   "metadata": {},
   "source": [
    "# Ethics and Privacy\n",
    "\n",
    "Our dataset is taken directly from [Billboard's Hot Weekly Charts](https://data.world/kcmillersean/billboard-hot-100-1958-2017), which, although requires a free account to access and view, is available to the public for fair use. Audio features for tracks are retrieved from Spotify's Web API and the actual songs are pulled from Billboard.\n",
    "\n",
    "We will be looking at songs that have been the most popular in each decade, since we are pulling from Billboard's number-one rap singles for each decade. This will not introduce any bias in our dataset aside from the fact that these songs were originally placed on the top charts due to the OPINIONS of the listeners. \n",
    "\n",
    "Our dataset will be formed by looking at the lyrics for each song that we scrape from Genius. In this case, we do not need to do any explicit cross-verification, because Genius's platform already includes tons of contributors that verify lyric validity. Therefore, our lyrics, although we may not be able to get lyrics for every song, will be 100% accurate and unique for every observation.\n",
    "\n",
    "Again, our selection of songs will not have any bias aside from the fact that Billboard chooses their cumulative lists based on popularity. Therefore, it may leave out rap songs that are not as popular and may not be a true representation of ALL rap songs for each decade. In our project, we will explicitly state that we will only be performing an analysis on the most popular rap songs for each decade. \n",
    "\n",
    "From the explanation above, because we are not looking at ALL rap music (which is extremely difficult because lots of rap music are not even publicized), it may discredit our work if we do not carefully state all the parameters in our study (ie what we've included, excluded, and took into or out of consideration).\n",
    "\n",
    "In terms of data privacy, every lyric we find is for public-use, as Genius is a public site. Therefore, we will not break any TOS."
   ]
  },
  {
   "cell_type": "markdown",
   "metadata": {},
   "source": [
    "# Conclusion & Discussion\n",
    "\n",
    "- In this project, we intended to see if contemporary rap music had become disconnected from societal issues over the course of 60 years as a result of consistently poor lyrical choices. After reading in, cutting down, and merging the data, we retained only the data we needed (Year, Performer, Song Title), and retrieved the lyrics for each song by web scraping Genius pages. Then, we used SpaCy to remove and stop words, expand English contractions, correct spelling mistakes, tokenize, and remove redundant punctuation. Then, we calculated the TF-IDF scores for every word in every song (which totaled to just oveer 25000+ dictionary entires). Lastly, for our visualizations we used a distribution plot and a histogram to get a visual idea of the relationships across decades for average word counts, 6 bar plots for plotting the top 15 commonly said words, another 6 bar plots for plotting the top 15 uniquely said words, and a box plot for mathematically investigating what words were truly shared across decades and which ones were specific to a certain bin. Based on the results, we found that contemporary rap music contained lyrics that were not only more vulgar, but also failed to contain any type of social agenda. We found out that the lyrics nowadays contain many more ad-libs than they had in the past, and the main overarching themes were more self-gratifying than anything (ie about power, sex, etc.). Therefore, we correctly predicted what we stated from our hypothesis. <br><br>\n",
    "- This project definitely had a few bottlenecks and hurdles. First of all, it was very hard trying to find data for this project. We didn't know exactly where to look for data, or what we really needed to successfully reach a conclusion for our analysis. Another difficulty was trying to get the lyrics for the songs that we were going to work with. We tried several python packages before we eventually gave up and decided to scrape Genius for our lyrics. Then, in order to actually analyze the data, since we received lyrics verbatim, we needed to remove stop words and figure out a way to clean the data, which was a hefty problem on its own (s/o algorithm team). Lastly, we had to figure out what types of visualizations we needed. In what way could we prove that contemporary rap has made poor lyrical choices? So we decided to compare across decades with a histogram, barplots, and boxplots, which are all suggested by the instructional staff. <br><br>\n",
    "- We kind of wanted this project to take a different direction. As young college students who listen to zoomer music quite often, we knew that rap music was indeed repetitive. At first, we wanted to see if rap music had truly become motonouse (by measure of repeated lyrics or reuse of the same beat) because of public sway and popularity, or if rap music had always been that way. Because we didn't have enough time (and simply the fact that our analysis is already quite long, possibly too long), we didn’t end up investigating this portion of contemporary rap music. <br><br>\n",
    "- This project may help inspire change in the music industry sector. The market is incredibly over-saturated with the same songs and fact of the matter is, most popular Hip=Hop/Rap music is not really motivating. Contemporary rap music talks about getting rich and famous, having sex, and drinking. These are all things that don't improve society in any way, and hopefully our analysis encourages some sort of musical reform!<br><br>"
   ]
  },
  {
   "cell_type": "markdown",
   "metadata": {},
   "source": [
    "# Team Contributions\n",
    "\n",
    "We will break this section down into the subteam each member was a part of, the contributions to the final project notebook, how active each member was during meetings, and whether or not anyone was tardy/absent.\n",
    "\n",
    "- Format\n",
    "    - Member\n",
    "        - Category 1 = [Algorithms, Visualizations]\n",
    "        - Category 2 = [None, Hardly Any, Average, Good, Great]\n",
    "        - Category 3 = [Silent, Decently Active, Very Active]\n",
    "        - Category 4 = [Number of Times Tardy/[Dates of Absence]]\n",
    "    \n",
    "\n",
    "- Notes\n",
    "    - Categories 2 and 3\n",
    "        - Both of these categories were determined by taking the average of 4 anonymous google form submissions following [this format](https://docs.google.com/forms/d/e/1FAIpQLSfrbG93m-6O9fyvadRJ3yDjEpa8rrN9wi0z7iOdZpci7vhUCw/viewform?usp=sf_link). Eg for members A,B,C,D,E: member A would fill out every form except form A, as form A refers to the score for member A.\n",
    "    - Category 4\n",
    "        - Accumulated data from meeting logs throughout the following days:\n",
    "            - Meeting Dates = [10/7, 10/17, 10/18, 10/24, 10/31, 11/7, 11/14, 11/17, 11/21, 12/5, 12/8, 12/12]\n",
    "            - Total Meeting Count = 12\n",
    "\n",
    "- Andrew Li\n",
    "    - Visualizations\n",
    "    - .\n",
    "    - .\n",
    "    - [0. [10/18]]\n",
    "- Jialin Shan\n",
    "    - Algorithms\n",
    "    - .\n",
    "    - .\n",
    "    - [0, []]\n",
    "- Sameer Ahmed\n",
    "    - Visualizations\n",
    "    - .\n",
    "    - .\n",
    "    - [0, []]\n",
    "- Lacey Umamoto\n",
    "    - Algorithms\n",
    "    - .\n",
    "    - .\n",
    "    - [0, []]\n",
    "- Rickesh Khilnani\n",
    "    - Visualizations\n",
    "    - .\n",
    "    - .\n",
    "    - [0, [12/5]]"
   ]
  }
 ],
 "metadata": {
  "hide_input": false,
  "kernelspec": {
   "display_name": "Python 3",
   "language": "python",
   "name": "python3"
  },
  "language_info": {
   "codemirror_mode": {
    "name": "ipython",
    "version": 3
   },
   "file_extension": ".py",
   "mimetype": "text/x-python",
   "name": "python",
   "nbconvert_exporter": "python",
   "pygments_lexer": "ipython3",
   "version": "3.8.5"
  }
 },
 "nbformat": 4,
 "nbformat_minor": 2
}
