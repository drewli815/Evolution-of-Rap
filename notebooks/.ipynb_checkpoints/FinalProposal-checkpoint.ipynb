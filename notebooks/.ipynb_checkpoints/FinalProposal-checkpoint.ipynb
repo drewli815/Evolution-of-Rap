{
 "cells": [
  {
   "cell_type": "code",
   "execution_count": null,
   "metadata": {},
   "outputs": [],
   "source": [
    "import pandas as pd\n",
    "import nltk\n",
    "from nltk.corpus import stopwords\n",
    "from nltk.stem import WordNetLemmatizer\n",
    "from string import punctuation\n",
    "import re\n",
    "from nltk.stem import SnowballStemmer\n",
    "from autocorrect import Speller\n",
    "from collections import Counter \n",
    "import spacy\n",
    "from datetime import datetime\n",
    "import numpy as np\n",
    "import lyricsgenius"
   ]
  },
  {
   "cell_type": "code",
   "execution_count": 1,
   "metadata": {},
   "outputs": [
    {
     "ename": "ModuleNotFoundError",
     "evalue": "No module named 'lyricsgenius'",
     "output_type": "error",
     "traceback": [
      "\u001b[0;31m---------------------------------------------------------------------------\u001b[0m",
      "\u001b[0;31mModuleNotFoundError\u001b[0m                       Traceback (most recent call last)",
      "\u001b[0;32m<ipython-input-1-a7eefb0f48dc>\u001b[0m in \u001b[0;36m<module>\u001b[0;34m()\u001b[0m\n\u001b[1;32m      2\u001b[0m \u001b[0;32mfrom\u001b[0m \u001b[0mdatetime\u001b[0m \u001b[0;32mimport\u001b[0m \u001b[0mdatetime\u001b[0m\u001b[0;34m\u001b[0m\u001b[0;34m\u001b[0m\u001b[0m\n\u001b[1;32m      3\u001b[0m \u001b[0;32mimport\u001b[0m \u001b[0mnumpy\u001b[0m \u001b[0;32mas\u001b[0m \u001b[0mnp\u001b[0m\u001b[0;34m\u001b[0m\u001b[0;34m\u001b[0m\u001b[0m\n\u001b[0;32m----> 4\u001b[0;31m \u001b[0;32mimport\u001b[0m \u001b[0mlyricsgenius\u001b[0m\u001b[0;34m\u001b[0m\u001b[0;34m\u001b[0m\u001b[0m\n\u001b[0m\u001b[1;32m      5\u001b[0m \u001b[0;34m\u001b[0m\u001b[0m\n\u001b[1;32m      6\u001b[0m \u001b[0mgenius\u001b[0m \u001b[0;34m=\u001b[0m \u001b[0mlyricsgenius\u001b[0m\u001b[0;34m.\u001b[0m\u001b[0mGenius\u001b[0m\u001b[0;34m(\u001b[0m\u001b[0;34m\"-VH73uIIYTXillAxkhh-uuEUfTNPXLVT25-EcyNlfBnXK2kSPidRXPQCsDumgKmw\"\u001b[0m\u001b[0;34m)\u001b[0m\u001b[0;34m\u001b[0m\u001b[0;34m\u001b[0m\u001b[0m\n",
      "\u001b[0;31mModuleNotFoundError\u001b[0m: No module named 'lyricsgenius'"
     ]
    }
   ],
   "source": [
    "genius = lyricsgenius.Genius(\"-VH73uIIYTXillAxkhh-uuEUfTNPXLVT25-EcyNlfBnXK2kSPidRXPQCsDumgKmw\")\n",
    "\n",
    "df = pd.DataFrame(pd.read_excel(\"./data/Hot 100 Audio Features.xlsx\"))\n",
    "df_hotstuff = pd.DataFrame(pd.read_csv(\"./data/Hot Stuff.csv\"))\n",
    "\n",
    "# drop songs without genres\n",
    "df.dropna(subset=['spotify_genre'], inplace=True)\n",
    "\n",
    "# get songs with rap genre\n",
    "df_rap = pd.DataFrame()\n",
    "for index, row in df.iterrows():\n",
    "    genres = df.spotify_genre.squeeze()[index]\n",
    "    if 'rap' in genres:\n",
    "        df_rap = df_rap.append(row)\n",
    "\n",
    "# drop duplicate songs (songs with same songID)\n",
    "df_rap = df_rap.drop_duplicates(subset=['SongID'], keep='first')\n",
    "\n",
    "# merge df_rap and df_hotstuff to get weekID\n",
    "df_merge = pd.merge(df_rap, df_hotstuff, how='left')\n",
    "\n",
    "# drop songs with no weekID\n",
    "df_merge.dropna(subset=['WeekID'], inplace=True)\n",
    "\n",
    "# drop duplicate songs (songs with same songID)\n",
    "df_merge = df_merge.drop_duplicates(subset=['SongID'],keep='first')\n",
    "\n",
    "# get years\n",
    "years = []\n",
    "for index, row in df_merge.iterrows():\n",
    "    weekID = df_merge.WeekID[index]\n",
    "    year = datetime.strptime(weekID, \"%m/%d/%Y\").year\n",
    "    years.append(year)\n",
    "df_merge['Year'] = years\n",
    "\n",
    "# get final dataframe with year, performer, and song\n",
    "df_final = df_merge[['Year', 'Performer', 'Song']]\n",
    "df_final = df_final.reset_index(drop=True)\n",
    "\n",
    "# get lyrics\n",
    "glyrics = []\n",
    "for index, row in df_final.iterrows():\n",
    "    try:\n",
    "        s = genius.search_song(row['Song'], row['Performer'])\n",
    "        lyric = s.lyrics\n",
    "    except:\n",
    "        lyric = np.NaN\n",
    "    glyrics.append(lyric)\n",
    "df_final['Lyrics'] = glyrics\n",
    "\n",
    "# drop rows with no lyrics\n",
    "df_final.dropna(subset=['Lyrics'], inplace=True)\n",
    "\n",
    "# export to csv\n",
    "df_final.to_csv(\"Hot100Data3594.csv\")"
   ]
  },
  {
   "cell_type": "code",
   "execution_count": null,
   "metadata": {},
   "outputs": [],
   "source": []
  }
 ],
 "metadata": {
  "hide_input": false,
  "kernelspec": {
   "display_name": "Python 3",
   "language": "python",
   "name": "python3"
  },
  "language_info": {
   "codemirror_mode": {
    "name": "ipython",
    "version": 3
   },
   "file_extension": ".py",
   "mimetype": "text/x-python",
   "name": "python",
   "nbconvert_exporter": "python",
   "pygments_lexer": "ipython3",
   "version": "3.7.1"
  }
 },
 "nbformat": 4,
 "nbformat_minor": 2
}
