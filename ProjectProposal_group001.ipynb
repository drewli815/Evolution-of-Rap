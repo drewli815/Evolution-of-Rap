{
 "cells": [
  {
   "cell_type": "markdown",
   "metadata": {},
   "source": [
    "# COGS 108 - Final Project Proposal"
   ]
  },
  {
   "cell_type": "markdown",
   "metadata": {},
   "source": [
    "# Names\n",
    "\n",
    "- Andrew Li\n",
    "- Sameer Ahmed\n",
    "- Jialin Shan\n",
    "- Lacey Umamoto\n",
    "- Rickesh Khilnani"
   ]
  },
  {
   "cell_type": "markdown",
   "metadata": {},
   "source": [
    "# Group Members IDs\n",
    "\n",
    "- A15664397\n",
    "- A16094697\n",
    "- A13826733\n",
    "- A15726197\n",
    "- A15481687"
   ]
  },
  {
   "cell_type": "markdown",
   "metadata": {},
   "source": [
    "# Research Question"
   ]
  },
  {
   "cell_type": "markdown",
   "metadata": {},
   "source": [
    "*In the past 5 years, how has rap music's lyrics and overarching themes evolved into the repetitive, monotonous genre it has become today?*"
   ]
  },
  {
   "cell_type": "markdown",
   "metadata": {},
   "source": [
    "## Background and Prior Work"
   ]
  },
  {
   "cell_type": "markdown",
   "metadata": {},
   "source": [
    "- We all listen to and enjoy music.\n",
    "\n",
    "- We realized that contemporary music is repetitive because a lot of songs have a repeating theme in the form of either lyrics or the type of beat. This is very evident in contemporary rap. A lot of rap songs cover the same topics: guns, liquor, drugs, money, sex, getting famous, being rich, etc. But one has to consider the type of beat that rap music uses. It's quite hard to tell the difference from one rap song to another if you were to just listen to the instrumental versions. The dull and repetitive nature of rap comes from exactly this.\n",
    "\n",
    "- Therefore, in order to measure the monotiny, we will be accumulating data from thousands of songs ranging from the 1970s - 2010s and performing an analysis on their overarching themes, word counts, and their tempo/energy. The American rap genre will be considered to have evolved from innovative to monotonous if rap music from the 1970s cover a range of topics other than the ones listed above as opposed to contemporary rap. In the 20th century, rap music was much more impactful and many pieces pushed to make public change. Nowadays, that isn't always the case. At least, not as often.\n",
    "\n",
    "- The overarching theme of each song will be the most repeated keyword (after removing common english words), word counts will be some sort of map or Counter that associates frequencies with words, and the tempo/energy will be pulled directly from Spotify's API.\n",
    "\n",
    "- Past Studies\n",
    "    - There is an article that has illustrated the 23 most repetitive rappers, the highest being Will.I.Am and Kid Cudi. The analysis looked at how often certain keywords were said, but only compared it from artist to artist.\n",
    "        - https://www.rapanalysis.com/2015/08/the-23-most-repetitive-rappers/ \n",
    "    - In this tiny piece (written 9 years ago), talks about how music used to promote good values, but in the 21st century, it has completely shifted to a shallow and superficial genre. He adds a quote from one of Drake's songs that only focuses on the aspects of life that are instantly gratifying: getting money, drinking, and smoking, namely. \n",
    "        - https://roundup.brophyprep.org/index.php/2012/03/popular-hip-hop-music-praises-shallow-superficial-decadence/ \n",
    "\n",
    "- We believe there should be a change in the music industry. Today's music industry makes music that is solely for 'instant gratification' and is completely shallow.\n",
    "\n",
    "- People have used datasets to examine trends in popularity.\n",
    "\n",
    "\n",
    "References (include links):\n",
    "- 1) Web API: https://spotipy.readthedocs.io/en/2.16.0/\n",
    "- 2) Spotify: https://www.spotify.com/us/\n",
    "- 3) Possible Dataset (if we cant use api): https://www.kaggle.com/yamaerenay/spotify-dataset-19212020-160k-tracks\n",
    "- 4) Another Possible Dataset (we thought this one looked cool): http://millionsongdataset.com/"
   ]
  },
  {
   "cell_type": "markdown",
   "metadata": {},
   "source": [
    "# Hypothesis\n"
   ]
  },
  {
   "cell_type": "markdown",
   "metadata": {},
   "source": [
    "*After conducting a thorough analysis of music repetition, we believe that there exists a trend in contemporary rap music. This trend will be evident after looking at the repetition of keywords, and the diversity of beats and rhythm (through measures of tempo and energy) from rap songs from the 1970s and comparing them to rap in the 21st century.We expect that the majority of rap music will contain near-identical keywords.*"
   ]
  },
  {
   "cell_type": "markdown",
   "metadata": {},
   "source": [
    "# Data"
   ]
  },
  {
   "cell_type": "markdown",
   "metadata": {},
   "source": [
    "- What variables: song name, song title, song year, lyrics for song, keywords, and their respective counts.\n",
    "- How many observations: 15,000\n",
    "- Who/what/how would these data be collected: Web scraping genius, spotify web api, spotipy, python, pandas, spreadsheets api, beautifulsoup.\n",
    "- How would these data be stored/organized: Pandas, as an alternative, google spreadsheets."
   ]
  },
  {
   "cell_type": "markdown",
   "metadata": {},
   "source": [
    "# Ethics & Privacy"
   ]
  },
  {
   "cell_type": "markdown",
   "metadata": {},
   "source": [
    "*Our dataset, will be self-created. The data we will be scraping is open-source. There are no privacy concerns and we do not plan on breaking any TOS. In terms of biases, we are just stating facts. The lyrics are also public on genius.com for songs that are readily available. There are no problems with data privacy, and if we do encounter any issues, they will be resolved.*"
   ]
  },
  {
   "cell_type": "markdown",
   "metadata": {},
   "source": [
    "# Team Expectations "
   ]
  },
  {
   "cell_type": "markdown",
   "metadata": {},
   "source": [
    "* Check the meeting logs before the corresponding meeting\n",
    "* Efficient communication. Communicate to the team if you'll be absent ahead of time.\n",
    "* Be respectful to other ideas and have an open mind.\n",
    "* Be active in group chats: discord and messenger."
   ]
  },
  {
   "cell_type": "markdown",
   "metadata": {},
   "source": [
    "# Project Timeline Proposal"
   ]
  },
  {
   "cell_type": "markdown",
   "metadata": {},
   "source": [
    "| Meeting Date | Meeting Time | Completed Before Meeting  | Discuss at Meeting |\n",
    "|---|---|---|---|\n",
    "| 10/10  |  3 PM | When2Meet and Member Introductions  | Determine best form of communication; Create Brainstorm Document; Came up with broad topic ideas; Established goals for next meeting | \n",
    "| 10/17 | 3:30pm | Add to brainstorming document | Filling out the proposal; finding datasets; weekly meetings times; idea pruning. | \n",
    "| 10/18 | 3pm | Dataset research; Pick Topic | Decide on a question; Ethics & Privacy; Data; Hypothesis; Research Question. |\n",
    "| 10/24 | 1pm | Reflect on proposal outcome | Talk about collecting data and from which dataset we will actually be pulling from. |\n",
    "| 10/31 | 1pm | Research dataset. Think about formatting. | Begin assigning tasks and roles to people. Have people learn stack. |\n",
    "| 11/7 | 1pm | Web scrape Pt1 | Catch up with team. Double check everyone understands pandas, python, and beautifulsoup. |\n",
    "| 11/14 | 1pm | Web scrape Pt2. EDA. | Catch up with team. Make sure data is correctly being placed into dataset. |\n",
    "| 11/21 | 1pm | Word count. Word to vector. Topic modeling. | Catch up with team. Address hiccups and errors. |\n",
    "| 11/28 | 1pm | Graph construction and final modeling. Data visualization. | Address touch ups. Fix errors. |\n",
    "| 12/5 | 1pm | Final testing, implementation details, and final presentation. | Work on presentation and rehearsal. |\n",
    "| 12/12 | 1pm | Video? | Final rehearsal. Finishing video. |"
   ]
  }
 ],
 "metadata": {
  "kernelspec": {
   "display_name": "Python 3",
   "language": "python",
   "name": "python3"
  },
  "language_info": {
   "codemirror_mode": {
    "name": "ipython",
    "version": 3
   },
   "file_extension": ".py",
   "mimetype": "text/x-python",
   "name": "python",
   "nbconvert_exporter": "python",
   "pygments_lexer": "ipython3",
   "version": "3.7.9"
  }
 },
 "nbformat": 4,
 "nbformat_minor": 2
}