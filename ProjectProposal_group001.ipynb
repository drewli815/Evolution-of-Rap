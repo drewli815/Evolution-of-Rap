{
 "cells": [
  {
   "cell_type": "markdown",
   "metadata": {},
   "source": [
    "# COGS 108 - Final Project Proposal"
   ]
  },
  {
   "cell_type": "markdown",
   "metadata": {},
   "source": [
    "# Names\n",
    "\n",
    "- Andrew Li\n",
    "- Sameer Ahmed\n",
    "- Jialin Shan\n",
    "- Lacey Umamoto\n",
    "- Rickesh Khilnani"
   ]
  },
  {
   "cell_type": "markdown",
   "metadata": {},
   "source": [
    "# Group Members IDs\n",
    "\n",
    "- A15664397\n",
    "- A16094697\n",
    "- A13826733\n",
    "- A15726197\n",
    "- A15481687"
   ]
  },
  {
   "cell_type": "markdown",
   "metadata": {},
   "source": [
    "# Research Question"
   ]
  },
  {
   "cell_type": "markdown",
   "metadata": {},
   "source": [
    "*In the past 40 years, how has rap music's lyrics and overarching themes evolved into the repetitive, monotonous genre it has become today? Can we form the conclusion that the main topics in rap and their beat/rhythm have not changed after performing an analysis of the Billboard's number-one rap singles for each decade ranging from the 1980s to the 2010s?*"
   ]
  },
  {
   "cell_type": "markdown",
   "metadata": {},
   "source": [
    "## Background and Prior Work"
   ]
  },
  {
   "cell_type": "markdown",
   "metadata": {},
   "source": [
    "- We realized that contemporary music is repetitive because a lot of songs have a repeating theme in the form of either lyrics or the type of beat. This is very evident in contemporary rap. A lot of rap songs cover the same topics: guns, liquor, drugs, money, sex, getting famous, being rich, etc. But one has to consider the type of beat that rap music uses. It's quite hard to tell the difference from one rap song to another if you were to just listen to the instrumental versions. The dull and repetitive nature of rap comes from exactly this.\n",
    "\n",
    "- Therefore, in order to measure the monotony, we will be accumulating data from thousands of songs ranging from the 1980s - 2010s and performing an analysis on their overarching themes, word counts, and their tempo/energy. The American rap genre will be considered to have evolved from innovative to monotonous if rap music from the 1980s covers a range of topics other than the ones listed above as opposed to contemporary rap. In the 20th century, rap music was much more impactful and many pieces pushed to make public change. Nowadays, that isn't always the case. At least, not as often.\n",
    "\n",
    "- The overarching theme of each song will be the most repeated keyword (after removing common english words), word counts will be some sort of map or Counter that associates frequencies with words, and the tempo/energy will be pulled directly from Spotify's API.\n",
    "\n",
    "- We believe there should be a change in the music industry. Today's music industry makes music that is solely for 'instant gratification' and is completely shallow. (Refer to the second resource in the *Past Studies* section below)\n",
    "\n",
    "- We all listen to and enjoy music.\n",
    "\n",
    "- Past Studies\n",
    "    - There is an article that has illustrated the 23 most repetitive rappers, the highest being Will.I.Am and Kid Cudi. The analysis looked at how often certain keywords were said, but only compared it from artist to artist.\n",
    "        - https://www.rapanalysis.com/2015/08/the-23-most-repetitive-rappers/ \n",
    "    - In this tiny piece (written 9 years ago), talks about how music used to promote good values, but in the 21st century, it has completely shifted to a shallow and superficial genre. He adds a quote from one of Drake's songs that only focuses on the aspects of life that are instantly gratifying: getting money, drinking, and smoking, namely. \n",
    "        - https://roundup.brophyprep.org/index.php/2012/03/popular-hip-hop-music-praises-shallow-superficial-decadence/ \n",
    "\n",
    "References (include links):\n",
    "- 1) Billboard's Number-One Rap Singles for each Decade: https://en.wikipedia.org/wiki/List_of_Billboard_number-one_rap_singles_of_the_1980s_and_1990s \n",
    "- 2) Lyrics-Extractor Package for Python: https://pypi.org/project/lyrics-extractor/\n",
    "    - This can be used for retrieving and cross-referencing lyrics for data validity\n",
    "- 3) Spotify's Web API: https://spotipy.readthedocs.io/en/2.16.0/\n",
    "- 2) Spotify: https://www.spotify.com/us/\n",
    "- 4) MusixMatch API for lyrics (canceled): https://developer.musixmatch.com/ \n",
    "- 5) Google Sheets to store accumulated data for each decade (at the end of project for reference)"
   ]
  },
  {
   "cell_type": "markdown",
   "metadata": {},
   "source": [
    "# Hypothesis\n"
   ]
  },
  {
   "cell_type": "markdown",
   "metadata": {},
   "source": [
    "*After conducting a thorough analysis of music repetition, we believe that there exists a trend in contemporary rap music. This trend will be evident after comparing the overarching themes of rap music and average measurements of tempo and energy for each decade. We expect that, through these observations, we will find a repetitive trend because contemporary rap music focuses on the same topics and recycles the same beat/rhythm for each song whereas older rap music used to cover a diverse range of topics and beats/rhythm so that each song and artist was refreshing and unique.*"
   ]
  },
  {
   "cell_type": "markdown",
   "metadata": {},
   "source": [
    "# Data"
   ]
  },
  {
   "cell_type": "markdown",
   "metadata": {},
   "source": [
    "- What variables: song name, song title, song year, lyrics for song (dataframe 1), and keywords with their respective counts (dataframe 2).\n",
    "\n",
    "- How many observations: Varies depending on how many songs are on each Billboard for each decade. We will have to find a way to normalize our data so that the number of songs for each decade are the same. \n",
    "\n",
    "- Who/what/how would these data be collected: \n",
    "    - Who\n",
    "        - Each week, teams will be formed and tasks will be assigned to each subteam so that we can achieve maximum efficiency in data collection. Everyone's time would not be spent completing the same task and we will finish the project quicker. For example, team A may be tasked with data collection while team B will be in charge of parsing through it for cleaning (removing stop words, stemming, etc.)\n",
    "    - What\n",
    "        - At first, we will be collecting song names, artists, and the date at which each song reached number one. Then, using lyrics extractor, we will find the lyrics for each song. At this point, this is all the data collection we need. Additional steps include parsing through the data and removing common English words.\n",
    "    - How\n",
    "        - First using Billboard's number-one songs and exporting as a csv file. Then, we will read it in as a dataframe so that we can then iterate through each song title and run the lyrics extractor package on it. Then we will simply store each lyric body in the dataframe, remove any common English words from each lyric body, and iterate through all of the lyrics and associate counts with each word.\n",
    "\n",
    "- How would these data be stored/organized: Pandas dataframe which will eventually be converted back to a csv to be stored in google sheets\n",
    "\n",
    "- What kind of songs are you collecting: We will be collecting Billboard's number-one songs for each decade from the 1980s to the 2010s. The number of songs for each decade varies, so we will have to establish a numerical bottleneck.\n",
    "\n",
    "- Notes\n",
    "    - We will ONLY be looking at rap songs for this analysis. This is purely from Wikipedia's Billboard number-one list so that we get a rough estimate of what the most popular songs are for each decade. \n",
    "    - Because we have a method of retrieving all of the lyrics for each song in our data set, we know that we will have more than 25000+ words to parse through, which is more than enough to model the overarching themes for each decade for comparison with one another. "
   ]
  },
  {
   "cell_type": "markdown",
   "metadata": {},
   "source": [
    "# Ethics & Privacy"
   ]
  },
  {
   "cell_type": "markdown",
   "metadata": {},
   "source": [
    "*We will be looking at songs that have been the most popular in each decade. This will not introduce any bias in our dataset aside from the fact that these songs were originally placed due to the OPINIONS of the listeners. \n",
    "\n",
    "Our dataset will be formed by looking at the lyrics for each song that are outputted by the lyrics extractor package, but we will have to check for credibility by cross-verifying. Because lyrics extractor offers various mediums for accessing song lyrics, we can easily compare lyrics by using a set of relational operators on their string representations. \n",
    "\n",
    "Again, our selection of songs will not have any bias aside from the fact that Wikipedia chooses their cumulative lists based on popularity. Therefore, it may leave out rap songs that are not as popular and may not be a true representation of ALL rap songs for each decade. In our project, we will explicitly state that we will only be performing an analysis on the most popular songs for each decade. \n",
    "\n",
    "From the explanation above, because we are not looking at ALL rap music (which is extremely difficult because lots of rap music are not even publicized), it may discredit our work if we do not carefully state all the parameters in our study (ie what we've included, excluded, and took into or out of consideration).\n",
    "\n",
    "In terms of data privacy, every lyric we find is for public-use, as lyrics extractor will only pull from public databases. Therefore, we will not break any TOS.*"
   ]
  },
  {
   "cell_type": "markdown",
   "metadata": {},
   "source": [
    "# Team Expectations "
   ]
  },
  {
   "cell_type": "markdown",
   "metadata": {},
   "source": [
    "* Check the meeting logs before the corresponding meeting\n",
    "* Efficient communication. Communicate to the team if you'll be absent ahead of time.\n",
    "* Be respectful to other ideas and have an open mind.\n",
    "* Be active in group chats: discord and messenger."
   ]
  },
  {
   "cell_type": "markdown",
   "metadata": {},
   "source": [
    "# Project Timeline Proposal"
   ]
  },
  {
   "cell_type": "markdown",
   "metadata": {},
   "source": [
    "| Meeting Date | Meeting Time | Completed Before Meeting  | Discuss at Meeting |\n",
    "|---|---|---|---|\n",
    "| 10/10  |  3 PM | When2Meet and Member Introductions  | Determine best form of communication; Create Brainstorm Document; Came up with broad topic ideas; Established goals for next meeting | \n",
    "| 10/17 | 3:30pm | Add to brainstorming document | Filling out the proposal; finding datasets; weekly meetings times; idea pruning. | \n",
    "| 10/18 | 3pm | Dataset research; Pick Topic | Decide on a question; Ethics & Privacy; Data; Hypothesis; Research Question. |\n",
    "| 10/24 | 1pm | Reflect on proposal outcome | Talk about collecting data and from which dataset we will actually be pulling from. |\n",
    "| 10/31 | 1pm | Research dataset. Think about formatting. | Begin assigning tasks and roles to people. Have people learn stack. |\n",
    "| 11/7 | 1pm | Web scrape Pt1 | Catch up with team. Double check everyone understands pandas, python, and beautifulsoup. |\n",
    "| 11/14 | 1pm | Web scrape Pt2. EDA. | Catch up with team. Make sure data is correctly being placed into dataset. |\n",
    "| 11/21 | 1pm | Word count. Word to vector. Topic modeling. | Catch up with team. Address hiccups and errors. |\n",
    "| 11/28 | 1pm | Graph construction and final modeling. Data visualization. | Address touch ups. Fix errors. |\n",
    "| 12/5 | 1pm | Final testing, implementation details, and final presentation. | Work on presentation and rehearsal. |\n",
    "| 12/12 | 1pm | Video? | Final rehearsal. Finishing video. |"
   ]
  }
 ],
 "metadata": {
  "kernelspec": {
   "display_name": "Python 3",
   "language": "python",
   "name": "python3"
  },
  "language_info": {
   "codemirror_mode": {
    "name": "ipython",
    "version": 3
   },
   "file_extension": ".py",
   "mimetype": "text/x-python",
   "name": "python",
   "nbconvert_exporter": "python",
   "pygments_lexer": "ipython3",
   "version": "3.7.9"
  }
 },
 "nbformat": 4,
 "nbformat_minor": 2
}